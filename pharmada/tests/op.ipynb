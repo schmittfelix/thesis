{
 "cells": [
  {
   "cell_type": "code",
   "execution_count": 74,
   "metadata": {},
   "outputs": [],
   "source": [
    "regional_key = 'Landeshauptstadt München'\n",
    "\n",
    "import sys\n",
    "sys.path.append('/Users/felix/Documents/thesis')\n",
    "\n",
    "import pharmada.regkey as rk\n",
    "import pharmada.geometry as geo\n",
    "import pharmada.pharmacies as ph\n",
    "import pharmada.overpass as op\n",
    "import osm2geojson as o2g\n",
    "import geopandas as gpd\n",
    "import requests as req\n",
    "from shapely.geometry import Point"
   ]
  },
  {
   "cell_type": "code",
   "execution_count": 56,
   "metadata": {},
   "outputs": [],
   "source": [
    "RegKey = rk.RegKey(regional_key)\n",
    "AreaGeometry = geo.AreaGeometry(RegKey)"
   ]
  },
  {
   "cell_type": "code",
   "execution_count": 57,
   "metadata": {},
   "outputs": [],
   "source": [
    "query = fr\"\"\"\n",
    "[out:json];\n",
    "    \n",
    "//set up area given by regional_key as search boundary\n",
    "(\n",
    "relation({AreaGeometry.osm_id});\n",
    "map_to_area;\n",
    ") ->.boundary;\n",
    "\n",
    "wr(area.boundary)[type=boundary][boundary=postal_code]->.results;\n",
    "\n",
    "// output full geometry of the results set     \n",
    ".results out geom qt;\n",
    "\"\"\"\n",
    "\n",
    "response = op.query_overpass(query)"
   ]
  },
  {
   "cell_type": "code",
   "execution_count": 58,
   "metadata": {},
   "outputs": [],
   "source": [
    "result = o2g.json2geojson(response)\n",
    "# Convert the geometry to a GeoDataFrame\n",
    "geometry = gpd.GeoDataFrame.from_features(result, crs='EPSG:4326')\n",
    "geometry['postal_code'] = geometry['tags'].apply(lambda tags: tags.get('postal_code'))\n"
   ]
  },
  {
   "cell_type": "code",
   "execution_count": 76,
   "metadata": {},
   "outputs": [],
   "source": [
    "test_address = 'Frankenstraße 99, 97078 Würzburg'\n",
    "\n",
    "# geocode with Nominatim API\n",
    "url = 'https://nominatim.openstreetmap.org/search'\n",
    "params = {'q': test_address, 'format': 'json'}\n",
    "response = req.get(url, params=params).json()\n",
    "\n",
    "# get coordinates from response\n",
    "lat = float(response[0]['lat'])\n",
    "lon = float(response[0]['lon'])\n",
    "\n",
    "# build point\n",
    "point = Point(lon, lat)\n",
    "\n",
    "# build GeoSeries from point and display\n",
    "gs = gpd.GeoSeries(point)\n"
   ]
  },
  {
   "cell_type": "code",
   "execution_count": 79,
   "metadata": {},
   "outputs": [],
   "source": [
    "# reverse geocode the coordinates with Nominatim API\n",
    "url = f'https://nominatim.openstreetmap.org/reverse?format=json&lat={lat}&lon={lon}'\n",
    "response = req.get(url).json()"
   ]
  },
  {
   "cell_type": "code",
   "execution_count": 80,
   "metadata": {},
   "outputs": [
    {
     "data": {
      "text/plain": [
       "{'place_id': 621513,\n",
       " 'licence': 'Data © OpenStreetMap contributors, ODbL 1.0. https://osm.org/copyright',\n",
       " 'osm_type': 'node',\n",
       " 'osm_id': 288529414,\n",
       " 'lat': '49.8081696',\n",
       " 'lon': '9.9614443',\n",
       " 'display_name': 'Bayernstraße, Frankenstraße, Lindleinsmühle, Würzburg, Bayern, 97078, Deutschland',\n",
       " 'address': {'highway': 'Bayernstraße',\n",
       "  'road': 'Frankenstraße',\n",
       "  'suburb': 'Lindleinsmühle',\n",
       "  'city': 'Würzburg',\n",
       "  'state': 'Bayern',\n",
       "  'ISO3166-2-lvl4': 'DE-BY',\n",
       "  'postcode': '97078',\n",
       "  'country': 'Deutschland',\n",
       "  'country_code': 'de'},\n",
       " 'boundingbox': ['49.8081196', '49.8082196', '9.9613943', '9.9614943']}"
      ]
     },
     "execution_count": 80,
     "metadata": {},
     "output_type": "execute_result"
    }
   ],
   "source": [
    "response"
   ]
  },
  {
   "cell_type": "code",
   "execution_count": null,
   "metadata": {},
   "outputs": [],
   "source": []
  }
 ],
 "metadata": {
  "kernelspec": {
   "display_name": "Python 3",
   "language": "python",
   "name": "python3"
  },
  "language_info": {
   "codemirror_mode": {
    "name": "ipython",
    "version": 3
   },
   "file_extension": ".py",
   "mimetype": "text/x-python",
   "name": "python",
   "nbconvert_exporter": "python",
   "pygments_lexer": "ipython3",
   "version": "3.11.4"
  },
  "orig_nbformat": 4
 },
 "nbformat": 4,
 "nbformat_minor": 2
}
