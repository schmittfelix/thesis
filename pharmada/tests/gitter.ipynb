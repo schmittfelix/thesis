{
 "cells": [
  {
   "cell_type": "code",
   "execution_count": 1,
   "metadata": {},
   "outputs": [],
   "source": [
    "import geopandas as gpd\n",
    "from shapely.geometry import Polygon\n",
    "import pandas as pd\n",
    "import pharmada.data as data\n",
    "import pharmada.regkey as rk\n",
    "import math\n",
    "import re\n",
    "import csv\n",
    "\n",
    "regkey = '09663'"
   ]
  },
  {
   "cell_type": "code",
   "execution_count": 2,
   "metadata": {},
   "outputs": [],
   "source": [
    "data = data.Data(regkey)"
   ]
  },
  {
   "cell_type": "code",
   "execution_count": 3,
   "metadata": {},
   "outputs": [],
   "source": [
    "file = open('./data/Zensus_Bevoelkerung_100m-Gitter.csv', 'r', newline='')\n",
    "reader = csv.reader(file, delimiter=';')"
   ]
  },
  {
   "cell_type": "code",
   "execution_count": 4,
   "metadata": {},
   "outputs": [],
   "source": [
    "area_geom = data.AreaGeometry.geometry\n",
    "area_geom.to_crs(epsg=3035, inplace=True)\n",
    "bounds = area_geom.total_bounds\n",
    "\n",
    "e_sw = int(bounds[0]) // 10**2 * 10**2 + 50\n",
    "n_sw = int(bounds[1]) // 10**2 * 10**2 + 50\n",
    "e_ne = int(bounds[2]) // 10**2 * 10**2 - 50\n",
    "n_ne = int(bounds[3]) // 10**2 * 10**2 - 50\n",
    "\n",
    "def in_range(x, y):\n",
    "    return n_sw <= y <= n_ne and e_sw <= x <= e_ne"
   ]
  },
  {
   "cell_type": "code",
   "execution_count": 5,
   "metadata": {},
   "outputs": [],
   "source": [
    "gridcells = []\n",
    "\n",
    "next(reader) # skip header\n",
    "\n",
    "for row in reader:\n",
    "    if in_range(int(row[1]), int(row[2])):\n",
    "        gridcells.append(row)"
   ]
  },
  {
   "cell_type": "code",
   "execution_count": 6,
   "metadata": {},
   "outputs": [],
   "source": [
    "gridcells = pd.DataFrame(gridcells)\n",
    "gridcells.rename(columns={0: 'id', 1: 'x_mp', 2: 'y_mp', 3: 'population'}, inplace=True)\n",
    "gridcells['x_mp'] = gridcells['x_mp'].astype(int)\n",
    "gridcells['y_mp'] = gridcells['y_mp'].astype(int)\n",
    "gridcells['population'] = gridcells['population'].astype(int)"
   ]
  },
  {
   "cell_type": "code",
   "execution_count": 7,
   "metadata": {},
   "outputs": [],
   "source": [
    "gridcells['geometry'] = gridcells.apply(lambda row: Polygon([(row['x_mp']-50, row['y_mp']-50),\n",
    "                                     (row['x_mp']+50, row['y_mp']-50),\n",
    "                                     (row['x_mp']+50, row['y_mp']+50),\n",
    "                                     (row['x_mp']-50, row['y_mp']+50)]), axis=1)\n",
    "gridcells = gpd.GeoDataFrame(gridcells, geometry='geometry')\n",
    "gridcells.set_crs(epsg=3035, inplace=True)\n",
    "\n",
    "to_drop = []\n",
    "for index, row in gridcells.iterrows():\n",
    "    if not row['population'] > 0:\n",
    "        to_drop.append(index)\n",
    "    elif not area_geom.contains(row.geometry)[0]:\n",
    "        to_drop.append(index)\n",
    "\n",
    "gridcells.drop(to_drop, inplace=True)"
   ]
  },
  {
   "cell_type": "code",
   "execution_count": 10,
   "metadata": {},
   "outputs": [
    {
     "data": {
      "text/plain": [
       "126933"
      ]
     },
     "execution_count": 10,
     "metadata": {},
     "output_type": "execute_result"
    }
   ],
   "source": [
    "current_population = rk.get_regkey_list().at[data.RegKey.regkey, 'population']\n",
    "current_population"
   ]
  },
  {
   "cell_type": "code",
   "execution_count": null,
   "metadata": {},
   "outputs": [],
   "source": []
  }
 ],
 "metadata": {
  "kernelspec": {
   "display_name": "Python 3",
   "language": "python",
   "name": "python3"
  },
  "language_info": {
   "codemirror_mode": {
    "name": "ipython",
    "version": 3
   },
   "file_extension": ".py",
   "mimetype": "text/x-python",
   "name": "python",
   "nbconvert_exporter": "python",
   "pygments_lexer": "ipython3",
   "version": "3.11.4"
  },
  "orig_nbformat": 4
 },
 "nbformat": 4,
 "nbformat_minor": 2
}
