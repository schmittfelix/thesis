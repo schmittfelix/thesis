{
 "cells": [
  {
   "cell_type": "code",
   "execution_count": 10,
   "metadata": {},
   "outputs": [],
   "source": [
    "from numpy import int64\n",
    "import pandas as pd\n",
    "\n",
    "# Read in the data from a dedicated csv file\n",
    "df = pd.read_csv('./data/12411-01-01-4.csv',\n",
    "                sep=';', header=0, index_col=0, usecols=[0,1,2],\n",
    "                encoding=\"iso-8859-1\", engine='python',\n",
    "                converters={'regional_key': str})\n",
    "\n",
    "# Transform the population column to numeric\n",
    "df['total'] = pd.to_numeric(df['total'], errors='coerce', downcast='integer')\n",
    "df = df.dropna(subset=['total'])\n",
    "df['total'] = df['total'].astype(int64)\n",
    "\n",
    "# Remove leading whitespace from area names\n",
    "df['area'] = df['area'].str.lstrip()\n",
    "\n",
    "def rearrange_city_types(df, column):\n",
    "    # Function to rearrange city name and type\n",
    "    def rearrange(s):\n",
    "        # Check if the string contains a comma\n",
    "        if ',' not in s:\n",
    "            return s\n",
    "\n",
    "        # Split the string at the rightmost comma\n",
    "        parts = s.rsplit(',', 1)\n",
    "        \n",
    "        # Check if the second part of the string contains either \"kreisfreie Stadt\" or \"Landkreis\"\n",
    "        if \"kreisfreie Stadt\" in parts[1] or \"Landkreis\" or \"Kreis\" in parts[1]:\n",
    "            # Strip leading and trailing whitespace from both parts\n",
    "            parts = [part.strip() for part in parts]\n",
    "            parts = [part.title() for part in parts]\n",
    "            \n",
    "            # Use an f-string to format the output\n",
    "            return f\"{parts[1]} {parts[0]}\"\n",
    "        else:\n",
    "            return s\n",
    "\n",
    "    # Apply the function to the specified column\n",
    "    df[column] = df[column].apply(rearrange)\n",
    "\n",
    "# Use the function on the sample dataframe\n",
    "rearrange_city_types(df, 'area')\n",
    "\n"
   ]
  },
  {
   "cell_type": "code",
   "execution_count": 11,
   "metadata": {},
   "outputs": [
    {
     "data": {
      "text/html": [
       "<div>\n",
       "<style scoped>\n",
       "    .dataframe tbody tr th:only-of-type {\n",
       "        vertical-align: middle;\n",
       "    }\n",
       "\n",
       "    .dataframe tbody tr th {\n",
       "        vertical-align: top;\n",
       "    }\n",
       "\n",
       "    .dataframe thead th {\n",
       "        text-align: right;\n",
       "    }\n",
       "</style>\n",
       "<table border=\"1\" class=\"dataframe\">\n",
       "  <thead>\n",
       "    <tr style=\"text-align: right;\">\n",
       "      <th></th>\n",
       "      <th>area</th>\n",
       "      <th>total</th>\n",
       "    </tr>\n",
       "    <tr>\n",
       "      <th>regional_key</th>\n",
       "      <th></th>\n",
       "      <th></th>\n",
       "    </tr>\n",
       "  </thead>\n",
       "  <tbody>\n",
       "    <tr>\n",
       "      <th>0</th>\n",
       "      <td>Deutschland</td>\n",
       "      <td>83237124</td>\n",
       "    </tr>\n",
       "    <tr>\n",
       "      <th>01</th>\n",
       "      <td>Schleswig-Holstein</td>\n",
       "      <td>2922005</td>\n",
       "    </tr>\n",
       "    <tr>\n",
       "      <th>01001</th>\n",
       "      <td>Kreisfreie Stadt Flensburg</td>\n",
       "      <td>91113</td>\n",
       "    </tr>\n",
       "    <tr>\n",
       "      <th>01002</th>\n",
       "      <td>Kreisfreie Stadt Kiel, Landeshauptstadt</td>\n",
       "      <td>246243</td>\n",
       "    </tr>\n",
       "    <tr>\n",
       "      <th>01003</th>\n",
       "      <td>Kreisfreie Stadt Lübeck, Hansestadt</td>\n",
       "      <td>216277</td>\n",
       "    </tr>\n",
       "    <tr>\n",
       "      <th>...</th>\n",
       "      <td>...</td>\n",
       "      <td>...</td>\n",
       "    </tr>\n",
       "    <tr>\n",
       "      <th>16073</th>\n",
       "      <td>Kreis Saalfeld-Rudolstadt</td>\n",
       "      <td>100969</td>\n",
       "    </tr>\n",
       "    <tr>\n",
       "      <th>16074</th>\n",
       "      <td>Saale-Holzland-Kreis</td>\n",
       "      <td>82513</td>\n",
       "    </tr>\n",
       "    <tr>\n",
       "      <th>16075</th>\n",
       "      <td>Saale-Orla-Kreis</td>\n",
       "      <td>79030</td>\n",
       "    </tr>\n",
       "    <tr>\n",
       "      <th>16076</th>\n",
       "      <td>Kreis Greiz</td>\n",
       "      <td>96102</td>\n",
       "    </tr>\n",
       "    <tr>\n",
       "      <th>16077</th>\n",
       "      <td>Kreis Altenburger Land</td>\n",
       "      <td>87807</td>\n",
       "    </tr>\n",
       "  </tbody>\n",
       "</table>\n",
       "<p>447 rows × 2 columns</p>\n",
       "</div>"
      ],
      "text/plain": [
       "                                                 area     total\n",
       "regional_key                                                   \n",
       "0                                         Deutschland  83237124\n",
       "01                                 Schleswig-Holstein   2922005\n",
       "01001                      Kreisfreie Stadt Flensburg     91113\n",
       "01002         Kreisfreie Stadt Kiel, Landeshauptstadt    246243\n",
       "01003             Kreisfreie Stadt Lübeck, Hansestadt    216277\n",
       "...                                               ...       ...\n",
       "16073                       Kreis Saalfeld-Rudolstadt    100969\n",
       "16074                            Saale-Holzland-Kreis     82513\n",
       "16075                                Saale-Orla-Kreis     79030\n",
       "16076                                     Kreis Greiz     96102\n",
       "16077                          Kreis Altenburger Land     87807\n",
       "\n",
       "[447 rows x 2 columns]"
      ]
     },
     "execution_count": 11,
     "metadata": {},
     "output_type": "execute_result"
    }
   ],
   "source": [
    "df"
   ]
  },
  {
   "cell_type": "code",
   "execution_count": 12,
   "metadata": {},
   "outputs": [
    {
     "data": {
      "text/plain": [
       "126933"
      ]
     },
     "execution_count": 12,
     "metadata": {},
     "output_type": "execute_result"
    }
   ],
   "source": [
    "df.loc['09663', 'total']"
   ]
  },
  {
   "cell_type": "code",
   "execution_count": 14,
   "metadata": {},
   "outputs": [],
   "source": [
    "df.to_csv('./data/kreise_data.csv', sep=';', encoding='utf-8')"
   ]
  }
 ],
 "metadata": {
  "kernelspec": {
   "display_name": "Python 3",
   "language": "python",
   "name": "python3"
  },
  "language_info": {
   "codemirror_mode": {
    "name": "ipython",
    "version": 3
   },
   "file_extension": ".py",
   "mimetype": "text/x-python",
   "name": "python",
   "nbconvert_exporter": "python",
   "pygments_lexer": "ipython3",
   "version": "3.11.4"
  },
  "orig_nbformat": 4
 },
 "nbformat": 4,
 "nbformat_minor": 2
}
