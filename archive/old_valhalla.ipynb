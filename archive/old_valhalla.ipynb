{
 "cells": [
  {
   "cell_type": "code",
   "execution_count": null,
   "metadata": {},
   "outputs": [],
   "source": [
    "import pathlib as path\n",
    "import sys\n",
    "import docker as docker\n",
    "import json as json\n",
    "import pandas as pd\n",
    "import aiohttp\n",
    "import asyncio"
   ]
  },
  {
   "cell_type": "code",
   "execution_count": null,
   "metadata": {},
   "outputs": [],
   "source": [
    "# Establish notebook path for handling relative paths in the notebook\n",
    "notebook_path = path.Path().resolve()\n",
    "\n",
    "if notebook_path.stem != \"dev\":\n",
    "    raise Exception(\n",
    "        \"Notebook file root must be set to parent directory of the notebook. Please resolve and re-run.\"\n",
    "    )\n",
    "\n",
    "# Add the thesis directory to the path for importing local modules\n",
    "sys.path.append(str(notebook_path.parent.parent))\n",
    "\n",
    "import pharmalink.code.area as area\n",
    "import pharmalink.code.sources as src\n",
    "import pharmalink.code.customers as cust\n",
    "import pharmalink.code.valhalla as valhalla"
   ]
  },
  {
   "cell_type": "code",
   "execution_count": null,
   "metadata": {},
   "outputs": [],
   "source": [
    "# regkey = \"09663\"\n",
    "regkey = \"09162\"\n",
    "\n",
    "model_area = area.Area(regkey)\n",
    "pharmacies = src.Pharmacies.get_within_area(model_area)\n",
    "customers = cust.Customers(model_area).customers"
   ]
  },
  {
   "cell_type": "code",
   "execution_count": null,
   "metadata": {},
   "outputs": [],
   "source": [
    "valhalla_instance = valhalla.ValhallaInstance().valhalla"
   ]
  },
  {
   "cell_type": "code",
   "execution_count": null,
   "metadata": {},
   "outputs": [],
   "source": [
    "# Goal is to select one of the 3 closest pharmacies for each customer with a probability based on distance\n",
    "ph_locs = pharmacies.to_crs(epsg=25832).geometry\n",
    "cus_locs = customers.to_crs(epsg=25832).geometry\n",
    "\n",
    "chosen_pharmacies = []\n",
    "\n",
    "for cus in cus_locs:\n",
    "    # Find the 3 pharmacies closest to the customer\n",
    "    closest = ph_locs.distance(cus).sort_values(axis=0, ascending=True).head(3)\n",
    "\n",
    "    # Choose from the nearest pharmacies with a probability based on distance\n",
    "    chosen_pharmacies.append(closest.sample(weights=1 / closest).index[0])\n",
    "\n",
    "customers[\"chosen_pharmacy\"] = chosen_pharmacies"
   ]
  },
  {
   "cell_type": "code",
   "execution_count": null,
   "metadata": {},
   "outputs": [],
   "source": [
    "async def fetch_trip(session, cus_id, locations, mot):\n",
    "    params = {\n",
    "        \"id\": cus_id,\n",
    "        \"locations\": locations,\n",
    "        \"costing\": mot,\n",
    "        \"units\": \"kilometers\",\n",
    "        \"directions_type\": \"none\",\n",
    "    }\n",
    "\n",
    "    # print(f\"Fetching trip for customer {cus_id} with {mot}...\")\n",
    "\n",
    "    async with session.get(\"/route\", json=params) as response:\n",
    "        return mot, await response.json()\n",
    "\n",
    "\n",
    "async def process_customer(session, cus):\n",
    "    cus_id = cus[0]\n",
    "    cus_loc = cus[1]\n",
    "    ph_loc = pharmacies.loc[cus[2], \"geometry\"]\n",
    "\n",
    "    start = end = {\"lat\": cus_loc.y, \"lon\": cus_loc.x}\n",
    "    target = {\"lat\": ph_loc.y, \"lon\": ph_loc.x}\n",
    "\n",
    "    locations = [start, target, end]\n",
    "\n",
    "    tasks = []\n",
    "    for mot in [\"auto\", \"bicycle\", \"pedestrian\"]:\n",
    "        tasks.append(fetch_trip(session, cus_id, locations, mot))\n",
    "\n",
    "    # results = {cus[0]: {}}\n",
    "\n",
    "    results = {}\n",
    "\n",
    "    for task in asyncio.as_completed(tasks):\n",
    "        mot, result = await task\n",
    "\n",
    "        # Check if response id matches customer id\n",
    "        # if result[\"id\"] == cus_id:\n",
    "        #    del result[\"id\"]\n",
    "\n",
    "        if \"trip\" in result:\n",
    "            results[mot] = result[\"trip\"]\n",
    "\n",
    "    avg_length = sum([results[mot][\"summary\"][\"length\"] for mot in results]) / len(\n",
    "        results\n",
    "    )\n",
    "\n",
    "    # Choose a probable mode of transport based on the average trip length\n",
    "    chosen_mot = src.evaluate_mode_of_transport(avg_length, results.keys())\n",
    "\n",
    "    # Add the chosen mode of transport to the results\n",
    "    results[chosen_mot][\"mot\"] = chosen_mot\n",
    "\n",
    "    return {cus_id: results[chosen_mot]}\n",
    "\n",
    "\n",
    "async def calculate_trips():\n",
    "\n",
    "    # Start Valhalla container\n",
    "    valhalla_instance.start()\n",
    "\n",
    "    # Wait until Valhalla is ready\n",
    "    while valhalla_instance.health != \"healthy\":\n",
    "        await asyncio.sleep(0.1)\n",
    "        valhalla_instance.reload()\n",
    "\n",
    "    await asyncio.sleep(1)\n",
    "\n",
    "    # Find Valhalla API endpoint\n",
    "    valhalla_api = f\"http://localhost:8002\"\n",
    "\n",
    "    trips = {}\n",
    "\n",
    "    async with aiohttp.ClientSession(\n",
    "        base_url=valhalla_api,\n",
    "        timeout=aiohttp.ClientTimeout(600),\n",
    "        connector=aiohttp.TCPConnector(limit=100),\n",
    "    ) as session:\n",
    "\n",
    "        tasks = []\n",
    "        for cus in customers.itertuples():\n",
    "            tasks.append(process_customer(session, cus))\n",
    "\n",
    "        for task in asyncio.as_completed(tasks):\n",
    "            trips.update(await task)\n",
    "\n",
    "    # Stop Valhalla container\n",
    "    valhalla_instance.stop()\n",
    "\n",
    "    return trips"
   ]
  },
  {
   "cell_type": "code",
   "execution_count": null,
   "metadata": {},
   "outputs": [],
   "source": [
    "%autoawait\n",
    "\n",
    "# Run the main function\n",
    "raw_trips = await calculate_trips()"
   ]
  },
  {
   "cell_type": "code",
   "execution_count": null,
   "metadata": {},
   "outputs": [],
   "source": [
    "trips = pd.DataFrame.from_dict(\n",
    "    raw_trips, orient=\"index\", columns=[\"locations\", \"legs\", \"summary\", \"mot\"]\n",
    ")\n",
    "trips.index.name = \"cus_id\"\n",
    "trips.index = trips.index.astype(int)\n",
    "trips = trips.sort_index()\n",
    "trips = trips.join(pd.json_normalize(trips[\"summary\"]))\n",
    "trips = trips.drop(\n",
    "    columns=[\"summary\", \"has_time_restrictions\", \"has_toll\", \"has_highway\", \"has_ferry\"]\n",
    ")"
   ]
  },
  {
   "cell_type": "code",
   "execution_count": null,
   "metadata": {},
   "outputs": [],
   "source": [
    "total = trips.groupby(\"mot\").sum()\n",
    "total = total[[\"time\", \"length\"]]\n",
    "total[\"time\"] = total[\"time\"] / 3600\n",
    "total"
   ]
  }
 ],
 "metadata": {
  "kernelspec": {
   "display_name": "Python 3",
   "language": "python",
   "name": "python3"
  },
  "language_info": {
   "codemirror_mode": {
    "name": "ipython",
    "version": 3
   },
   "file_extension": ".py",
   "mimetype": "text/x-python",
   "name": "python",
   "nbconvert_exporter": "python",
   "pygments_lexer": "ipython3",
   "version": "3.13.0"
  }
 },
 "nbformat": 4,
 "nbformat_minor": 2
}
