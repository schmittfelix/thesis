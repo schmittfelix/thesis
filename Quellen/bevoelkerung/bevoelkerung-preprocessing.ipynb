{
 "cells": [
  {
   "cell_type": "code",
   "execution_count": 18,
   "metadata": {},
   "outputs": [],
   "source": [
    "import os\n",
    "import pandas as pd\n",
    "\n",
    "data = pd.DataFrame()\n",
    "\n",
    "for level in [\"gemeinden\", \"kreise\", \"bundeslaender\"]:\n",
    "    # Read in the data from a dedicated csv file\n",
    "    input = pd.read_csv(\n",
    "        f\"{os.getcwd()}/Quellen/bevoelkerung/2024-07-28_Zensus2022_bevoelkerung-{level}.csv\",\n",
    "        sep=\";\",\n",
    "        names=[\n",
    "            \"regkey\",\n",
    "            \"name\",\n",
    "            \"PERSONEN\",\n",
    "            \"ANZAHL\",\n",
    "            \"population\",\n",
    "            \"QUALITAET\",\n",
    "        ],\n",
    "        index_col=0,\n",
    "        usecols=[\"regkey\", \"name\", \"population\"],\n",
    "        engine=\"python\",\n",
    "        dtype={\n",
    "            \"regkey\": \"str\",  # String because of leading zeros\n",
    "            \"name\": \"str\",\n",
    "            \"population\": \"int64\",\n",
    "        },\n",
    "        skiprows=4,\n",
    "        skipfooter=4,\n",
    "    )\n",
    "\n",
    "    input[\"name\"] = input[\"name\"].str.lstrip()\n",
    "\n",
    "    # The following two blocks remove duplicate rows with differing names before they \"exist\" in the same dataframe.\n",
    "    # This code is quite ugly, granted, but ensures the \"best\" names (the official, longer ones) remain in the final dataframe.\n",
    "    # Example: \"Freie und Hansestadt Hamburg\" vs. \"Hamburg\"\n",
    "    if level == \"kreise\":\n",
    "        for row in input.iterrows():\n",
    "            long_key = f\"{row[0]:0<12}\"\n",
    "            if long_key in data.index:\n",
    "                data.drop(long_key, inplace=True)\n",
    "\n",
    "    if level == \"bundeslaender\":\n",
    "        for row in input.iterrows():\n",
    "            long_key = f\"{row[0]:0<5}\"\n",
    "            if long_key in data.index:\n",
    "                input.drop(row[0], inplace=True)\n",
    "\n",
    "    data = pd.concat([data, input])\n",
    "\n",
    "\n",
    "def rearrange_name(s):\n",
    "    # Check if the string contains a comma\n",
    "    if \",\" not in s:\n",
    "        return s\n",
    "\n",
    "    # Split the string at the rightmost comma\n",
    "    parts = s.rsplit(\",\", 1)\n",
    "\n",
    "    # Strip leading and trailing whitespace from both parts\n",
    "    parts = [part.strip().title() for part in parts]\n",
    "\n",
    "    # Use an f-string to format the output\n",
    "    return f\"{parts[1]} {parts[0]}\"\n",
    "\n",
    "\n",
    "data[\"name\"] = data[\"name\"].apply(rearrange_name)\n",
    "\n",
    "# Reshape all index values to valid 12-digit regkeys by adding trailing zeros where necessary\n",
    "data.index = data.index.str.ljust(12, \"0\")\n",
    "data = data.drop_duplicates()\n",
    "\n",
    "data = data.sort_index()"
   ]
  },
  {
   "cell_type": "code",
   "execution_count": 19,
   "metadata": {},
   "outputs": [],
   "source": [
    "# Save the processed data to a new csv file\n",
    "data.to_csv(\n",
    "    f\"{os.getcwd()}/Quellen/bevoelkerung/Zensus2022_Bevoelkerungszahl_regkey.csv\",\n",
    "    sep=\";\",\n",
    ")"
   ]
  },
  {
   "cell_type": "code",
   "execution_count": 20,
   "metadata": {},
   "outputs": [],
   "source": [
    "# Read in the data from a dedicated csv file\n",
    "test = pd.read_csv(\n",
    "    f\"{os.getcwd()}/Quellen/bevoelkerung/Zensus2022_Bevoelkerungszahl_regkey.csv\",\n",
    "    sep=\";\",\n",
    "    index_col=0,\n",
    "    dtype={\n",
    "        \"regkey\": \"str\",  # String because of leading zeros\n",
    "        \"name\": \"str\",\n",
    "        \"population\": \"int64\",\n",
    "    },\n",
    ")"
   ]
  },
  {
   "cell_type": "code",
   "execution_count": 21,
   "metadata": {},
   "outputs": [
    {
     "data": {
      "text/plain": [
       "name          Kreisfreie Stadt Würzburg\n",
       "population                       131316\n",
       "Name: 096630000000, dtype: object"
      ]
     },
     "execution_count": 21,
     "metadata": {},
     "output_type": "execute_result"
    }
   ],
   "source": [
    "test.loc[\"096630000000\"]"
   ]
  },
  {
   "cell_type": "code",
   "execution_count": null,
   "metadata": {},
   "outputs": [],
   "source": []
  }
 ],
 "metadata": {
  "kernelspec": {
   "display_name": "Python 3",
   "language": "python",
   "name": "python3"
  },
  "language_info": {
   "codemirror_mode": {
    "name": "ipython",
    "version": 3
   },
   "file_extension": ".py",
   "mimetype": "text/x-python",
   "name": "python",
   "nbconvert_exporter": "python",
   "pygments_lexer": "ipython3",
   "version": "3.12.4"
  }
 },
 "nbformat": 4,
 "nbformat_minor": 2
}
