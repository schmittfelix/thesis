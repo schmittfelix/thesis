{
 "cells": [
  {
   "cell_type": "code",
   "execution_count": 18,
   "metadata": {},
   "outputs": [],
   "source": [
    "import os\n",
    "import pandas as pd"
   ]
  },
  {
   "cell_type": "code",
   "execution_count": 21,
   "metadata": {},
   "outputs": [],
   "source": [
    "# Read the input file and clean it up\n",
    "with open(f\"{os.getcwd()}/Quellen/mit-output.csv\", \"r\") as file:\n",
    "    probs = pd.read_csv(\n",
    "        file, sep=\";\", header=2, index_col=0, skip_blank_lines=True, na_values=[\"-\"]\n",
    "    )\n",
    "\n",
    "probs = probs.dropna(how=\"all\", axis=0)\n",
    "probs = probs.drop(index=[\"Basis ungewichtet\", \"Basis gewichtet\"])\n",
    "probs = probs.drop(columns=[\" \"])\n",
    "\n",
    "# Correct data format from \"-\" (NaN alias) to 0 % to avoid error in conversion to float\n",
    "probs.iloc[0, 8] = \"0 %\"\n",
    "\n",
    "# Convert all values to float and divide by 100 to get the correct percentage\n",
    "for column in probs.columns:\n",
    "    probs[column] = probs[column].str.rstrip(\" %\").astype(\"float\") / 100.0\n",
    "\n",
    "# Rename the columns to be more descriptive\n",
    "new_labels = {\n",
    "    \"Pkw (Fahrer)\": \"car_driver\",\n",
    "    \"Pkw (Mitfahrer)\": \"car_passenger\",\n",
    "    \"Motorrad/Moped/Mofa\": \"motorcycle\",\n",
    "    \"Taxi\": \"taxi\",\n",
    "    \"Fahrrad\": \"bicycle\",\n",
    "    \"zu Fuß\": \"pedestrian\",\n",
    "}\n",
    "probs = probs.rename(index=new_labels)\n",
    "\n",
    "# Combine all vehicle-related columns into one (driver and passenger for cars, motorcycles, taxi)\n",
    "probs.loc[\"auto\"] = (\n",
    "    probs.loc[\"car_driver\"]\n",
    "    + probs.loc[\"car_passenger\"]\n",
    "    + probs.loc[\"motorcycle\"]\n",
    "    + probs.loc[\"taxi\"]\n",
    ")\n",
    "\n",
    "# Drop all columns except for auto, bicycle and pedestrian\n",
    "probs = probs.loc[[\"auto\", \"bicycle\", \"pedestrian\"]]\n",
    "\n",
    "probs = probs.T\n",
    "\n",
    "# Replace string-based index with interval-based equivalent\n",
    "breaks = [0, 0.5, 1, 2, 5, 10, 20, 50, 100, float(\"inf\")]\n",
    "\n",
    "index = pd.IntervalIndex.from_breaks(breaks, closed=\"left\", name=\"distance\")\n",
    "\n",
    "probs.index = index\n",
    "\n",
    "# Normalize the data by dividing each value by the sum of the row\n",
    "probs = probs.div(probs.agg(axis=1, func=\"sum\"), axis=0)"
   ]
  },
  {
   "cell_type": "code",
   "execution_count": 23,
   "metadata": {},
   "outputs": [],
   "source": [
    "output = {}\n",
    "\n",
    "output[\"breaks\"] = breaks\n",
    "\n",
    "output[\"data\"] = probs.to_dict(orient=\"records\")"
   ]
  },
  {
   "cell_type": "code",
   "execution_count": 26,
   "metadata": {},
   "outputs": [
    {
     "data": {
      "text/plain": [
       "'{\"breaks\": [0, 0.5, 1, 2, 5, 10, 20, 50, 100, Infinity], \"data\": [{\"auto\": 0.12371134020618557, \"bicycle\": 0.09278350515463918, \"pedestrian\": 0.7835051546391752}, {\"auto\": 0.3010752688172043, \"bicycle\": 0.1827956989247312, \"pedestrian\": 0.5161290322580645}, {\"auto\": 0.47727272727272724, \"bicycle\": 0.2159090909090909, \"pedestrian\": 0.3068181818181818}, {\"auto\": 0.6790123456790124, \"bicycle\": 0.16049382716049382, \"pedestrian\": 0.16049382716049382}, {\"auto\": 0.8552631578947368, \"bicycle\": 0.09210526315789475, \"pedestrian\": 0.05263157894736842}, {\"auto\": 0.948051948051948, \"bicycle\": 0.03896103896103895, \"pedestrian\": 0.012987012987012984}, {\"auto\": 0.961038961038961, \"bicycle\": 0.025974025974025972, \"pedestrian\": 0.012987012987012986}, {\"auto\": 0.9726027397260274, \"bicycle\": 0.027397260273972605, \"pedestrian\": 0.0}, {\"auto\": 1.0, \"bicycle\": 0.0, \"pedestrian\": 0.0}]}'"
      ]
     },
     "execution_count": 26,
     "metadata": {},
     "output_type": "execute_result"
    }
   ],
   "source": [
    "import json\n",
    "\n",
    "json.dumps(output)"
   ]
  },
  {
   "cell_type": "code",
   "execution_count": null,
   "metadata": {},
   "outputs": [],
   "source": []
  }
 ],
 "metadata": {
  "kernelspec": {
   "display_name": "Python 3",
   "language": "python",
   "name": "python3"
  },
  "language_info": {
   "codemirror_mode": {
    "name": "ipython",
    "version": 3
   },
   "file_extension": ".py",
   "mimetype": "text/x-python",
   "name": "python",
   "nbconvert_exporter": "python",
   "pygments_lexer": "ipython3",
   "version": "3.12.4"
  }
 },
 "nbformat": 4,
 "nbformat_minor": 2
}
