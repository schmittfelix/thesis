{
 "cells": [
  {
   "cell_type": "markdown",
   "metadata": {},
   "source": [
    "## Pharmacies\n",
    "\n",
    "This notebook describes the preprocessing of data about all pharmacies in Germany.\n",
    "The temporary source is OpenStreetMap (and its amenity=pharmacy tag), official data from ABDA (German Federal Association of Pharmacists) is pending.\n",
    "\n",
    "The goal is to extract name and location for each pharmacy and store the data in the main pharmalink module."
   ]
  },
  {
   "cell_type": "markdown",
   "metadata": {},
   "source": [
    "### Source:\n",
    "\n",
    "[OpenStreetMap](https://openstreetmap.org/copyright) planet file by [Geofabrik](https://geofabrik.de), Germany extract.\n",
    "\n",
    "[Website (Germany -> .osm.pbf)](https://download.geofabrik.de/europe.html) and [File](https://download.geofabrik.de/europe/germany-latest.osm.pbf)\n"
   ]
  },
  {
   "cell_type": "code",
   "execution_count": 1,
   "metadata": {},
   "outputs": [],
   "source": [
    "import pathlib as path\n",
    "import requests as req\n",
    "from tqdm.auto import tqdm\n",
    "import osmium as osm\n",
    "import geopandas as gpd\n",
    "from io import BytesIO\n",
    "import lzma"
   ]
  },
  {
   "cell_type": "code",
   "execution_count": 2,
   "metadata": {},
   "outputs": [],
   "source": [
    "# Establish notebook path for handling relative paths in the notebook\n",
    "notebook_path = path.Path().resolve()\n",
    "\n",
    "if notebook_path.stem != \"pharmacies\":\n",
    "    raise Exception(\n",
    "        \"Notebook file root must be set to parent directory of the notebook. Please resolve and re-run.\"\n",
    "    )"
   ]
  },
  {
   "cell_type": "code",
   "execution_count": 3,
   "metadata": {},
   "outputs": [],
   "source": [
    "# Ensure the osm-planet extract for Germany is available\n",
    "osm_germany = notebook_path.joinpath(\"germany.osm.pbf\")\n",
    "\n",
    "if not osm_germany.exists():\n",
    "    file_url = \"https://download.geofabrik.de/europe/germany-latest.osm.pbf\"\n",
    "\n",
    "    request = req.get(file_url, stream=True)\n",
    "    request.raise_for_status()\n",
    "\n",
    "    file_size = int(request.headers.get(\"content-length\", 0))\n",
    "\n",
    "    with tqdm.wrapattr(\n",
    "        open(osm_germany, \"wb\"),\n",
    "        \"write\",\n",
    "        miniters=1,\n",
    "        total=file_size,\n",
    "        desc=f\"Downloading {osm_germany.name}\",\n",
    "    ) as file:\n",
    "        for chunk in request.iter_content(chunk_size=8192):\n",
    "            file.write(chunk)"
   ]
  },
  {
   "cell_type": "code",
   "execution_count": 4,
   "metadata": {},
   "outputs": [],
   "source": [
    "# This filters all nodes and ways with the tag \"amenity=pharmacy\" and extracts the name and geometry\n",
    "file_processor = (\n",
    "    osm.FileProcessor(str(osm_germany))\n",
    "    .with_areas()\n",
    "    .with_filter(osm.filter.EmptyTagFilter())\n",
    "    .with_filter(osm.filter.EntityFilter(osm.osm.NODE | osm.osm.WAY))\n",
    "    .with_filter(osm.filter.TagFilter((\"amenity\", \"pharmacy\")))\n",
    "    .with_filter(osm.filter.GeoInterfaceFilter(tags=[\"name\"]))\n",
    ")\n",
    "\n",
    "pharmacies = gpd.GeoDataFrame.from_features(\n",
    "    file_processor, crs=\"EPSG:4326\", columns=[\"name\", \"geometry\"]\n",
    ")\n",
    "\n",
    "# Ensure that all pharmacies are represented as points and convert via centroid if necessary\n",
    "pharmacies[\"geometry\"] = pharmacies[\"geometry\"].apply(\n",
    "    lambda geom: geom.centroid if not geom.geom_type == \"Point\" else geom\n",
    ")"
   ]
  },
  {
   "cell_type": "code",
   "execution_count": 5,
   "metadata": {},
   "outputs": [
    {
     "data": {
      "text/plain": [
       "17793"
      ]
     },
     "execution_count": 5,
     "metadata": {},
     "output_type": "execute_result"
    }
   ],
   "source": [
    "len(pharmacies)  # should be ~ 17.790 as of 2024-11\n",
    "# Official value reported by ABDA for 2023 is 17.571\n",
    "# The discrepancy is due to the fact that the OSM data might not be up-to-date or include mis-tagged pharmacies\n",
    "# With about 1% discrepancy, the data is considered accurate enough for the purpose of this project"
   ]
  },
  {
   "cell_type": "code",
   "execution_count": 6,
   "metadata": {},
   "outputs": [],
   "source": [
    "# Save the pharmacies to a lzma compressed GeoPackage\n",
    "output_file = notebook_path.joinpath(\"pharmacies.gpkg.xz\")\n",
    "\n",
    "# Buffering is needed because Pyogrio does not support writing to open file handlers directly\n",
    "with BytesIO() as buffer:\n",
    "    pharmacies.to_file(buffer, layer=\"pharmacies\", driver=\"GPKG\")\n",
    "    buffer.seek(0)\n",
    "\n",
    "    with lzma.open(output_file, \"wb\", preset=9) as file:\n",
    "        file.write(buffer.read())"
   ]
  },
  {
   "cell_type": "code",
   "execution_count": null,
   "metadata": {},
   "outputs": [],
   "source": []
  }
 ],
 "metadata": {
  "kernelspec": {
   "display_name": "Python 3",
   "language": "python",
   "name": "python3"
  },
  "language_info": {
   "codemirror_mode": {
    "name": "ipython",
    "version": 3
   },
   "file_extension": ".py",
   "mimetype": "text/x-python",
   "name": "python",
   "nbconvert_exporter": "python",
   "pygments_lexer": "ipython3",
   "version": "3.12.4"
  }
 },
 "nbformat": 4,
 "nbformat_minor": 2
}
