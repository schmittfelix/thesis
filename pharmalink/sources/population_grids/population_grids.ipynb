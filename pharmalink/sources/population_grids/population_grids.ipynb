{
 "cells": [
  {
   "cell_type": "markdown",
   "metadata": {},
   "source": [
    "## Population Grid - Preprocessing\n",
    "\n",
    "This notebook describes the preprocessing of census data rendered as a population grid for Germany for the pharmalink project. \\\n",
    "The goal is to create a custom GeoPackage with one layer per Bundesland (state) containing all of its grid cells with a population > 0. \\\n",
    "Said GeoPackage is included in the pharmalink package as an essential part of its internal data."
   ]
  },
  {
   "cell_type": "markdown",
   "metadata": {},
   "source": [
    "### Source: [Zensus 2022](https://www.zensus2022.de) \n",
    "The source is available as Open Data from the 2022 census conducted by the federal and state statistical offices. \n",
    "\n",
    "© Statistische Ämter des Bundes und der Länder, 2024, [Data license Germany – attribution – version 2.0](https://www.govdata.de/dl-de/by-2-0) (Daten verändert)\n",
    "\n",
    "The source was last accessed on 2024-09-10.\n",
    "\n",
    "### Description:\n",
    "Census data rendered as an INSPIRE-conforming 100mx100m grid with an integer value representing the number of people living within each cell. \\\n",
    "For further information, see the \"Datensatzbeschreibung_Bevoelkerungszahl_Gitterzellen.xlsx\" file.\n",
    "\n",
    "[Website](https://www.zensus2022.de/DE/Ergebnisse-des-Zensus/_inhalt.html#Gitterdaten2022) and [File](https://www.zensus2022.de/static/Zensus_Veroeffentlichung/Zensus2022_Bevoelkerungszahl.zip)"
   ]
  },
  {
   "cell_type": "code",
   "execution_count": 1,
   "metadata": {},
   "outputs": [],
   "source": [
    "import pathlib as path\n",
    "import warnings\n",
    "import pandas as pd\n",
    "import geopandas as gpd\n",
    "from shapely.geometry import Polygon\n",
    "from io import BytesIO\n",
    "import lzma"
   ]
  },
  {
   "cell_type": "code",
   "execution_count": 2,
   "metadata": {},
   "outputs": [],
   "source": [
    "# Establish notebook path for handling relative paths in the notebook\n",
    "notebook_path = path.Path().resolve()\n",
    "\n",
    "if notebook_path.stem != \"population_grids\":\n",
    "    raise Exception(\n",
    "        \"Notebook file root must be set to parent directory of the notebook. Please resolve and re-run.\"\n",
    "    )"
   ]
  },
  {
   "cell_type": "code",
   "execution_count": 3,
   "metadata": {},
   "outputs": [],
   "source": [
    "# For source information, see above\n",
    "pop_cells_file = notebook_path.joinpath(\n",
    "    \"Zensus2022_Bevoelkerungszahl\", \"Zensus2022_Bevoelkerungszahl_100m-Gitter.csv\"\n",
    ")\n",
    "\n",
    "# Create a DataFrame from the population grid file\n",
    "pop_cells = pd.read_csv(\n",
    "    pop_cells_file,\n",
    "    sep=\";\",\n",
    "    header=0,\n",
    "    names=[\"id\", \"x_mp\", \"y_mp\", \"population\"],\n",
    "    dtype={\"id\": str, \"x_mp\": int, \"y_mp\": int, \"population\": int},\n",
    "    index_col=\"id\",\n",
    ")\n",
    "\n",
    "# Add the polygon described by the centroid x and y coordinates to the DataFrame\n",
    "pop_cells[\"geometry\"] = pop_cells.apply(\n",
    "    lambda row: Polygon(\n",
    "        [\n",
    "            (row[\"x_mp\"] - 50, row[\"y_mp\"] - 50),\n",
    "            (row[\"x_mp\"] + 50, row[\"y_mp\"] - 50),\n",
    "            (row[\"x_mp\"] + 50, row[\"y_mp\"] + 50),\n",
    "            (row[\"x_mp\"] - 50, row[\"y_mp\"] + 50),\n",
    "        ]\n",
    "    ),\n",
    "    axis=1,\n",
    ")\n",
    "\n",
    "# Clean up the DataFrame\n",
    "pop_cells = pop_cells.reset_index(drop=True)\n",
    "pop_cells = pop_cells[[\"geometry\", \"population\"]]\n",
    "\n",
    "# Create a GeoDataFrame from the DataFrame. Data source uses EPSG:3035\n",
    "pop_cells = gpd.GeoDataFrame(pop_cells, crs=\"EPSG:3035\")\n",
    "\n",
    "# Transform the GeoDataFrame to EPSG:4326\n",
    "pop_cells = pop_cells.to_crs(\"EPSG:4326\")"
   ]
  },
  {
   "cell_type": "code",
   "execution_count": 4,
   "metadata": {},
   "outputs": [],
   "source": [
    "# Import the Bundesländer areas from sources/admin_areas\n",
    "admin_areas_file = notebook_path.parent.joinpath(\"admin_areas\", \"admin_areas.gpkg.xz\")\n",
    "\n",
    "# Filter RuntimeWarnings from pyogrio. The GDAL driver for GeoPackage expects a .gpkg filename,\n",
    "# but the virtual file it receives from lzma cannot comply with the file standard in this regard.\n",
    "warnings.filterwarnings(\"ignore\", category=RuntimeWarning, module=\"pyogrio\")\n",
    "\n",
    "# Decompress with lzma, then access with geopandas.\n",
    "# Output is a GeoDataFrame\n",
    "with lzma.open(admin_areas_file, \"rb\") as archive:\n",
    "    admin_areas = gpd.read_file(archive, engine=\"pyogrio\")\n",
    "\n",
    "bundeslaender = admin_areas[admin_areas[\"level\"] == \"land\"]\n",
    "\n",
    "bundeslaender = bundeslaender.set_index(\"regkey\")"
   ]
  },
  {
   "cell_type": "code",
   "execution_count": 5,
   "metadata": {},
   "outputs": [
    {
     "name": "stdout",
     "output_type": "stream",
     "text": [
      "Extracted 138894 cells for Schleswig-Holstein\n",
      "Extracted 29195 cells for Hamburg\n",
      "Extracted 416520 cells for Niedersachsen\n",
      "Extracted 12730 cells for Bremen\n",
      "Extracted 548405 cells for Nordrhein-Westfalen\n",
      "Extracted 191956 cells for Hessen\n",
      "Extracted 164209 cells for Rheinland-Pfalz\n",
      "Extracted 346891 cells for Baden-Württemberg\n",
      "Extracted 564846 cells for Bayern\n",
      "Extracted 39650 cells for Saarland\n",
      "Extracted 41053 cells for Berlin\n",
      "Extracted 139081 cells for Brandenburg\n",
      "Extracted 88185 cells for Mecklenburg-Vorpommern\n",
      "Extracted 175398 cells for Sachsen\n",
      "Extracted 101430 cells for Sachsen-Anhalt\n",
      "Extracted 92199 cells for Thüringen\n"
     ]
    }
   ],
   "source": [
    "# Ensure the output directory exists\n",
    "output_path = notebook_path.joinpath(\"population_grids\")\n",
    "output_path.mkdir(parents=True, exist_ok=True)\n",
    "\n",
    "# Remove all existing files in the output directory\n",
    "for file in output_path.glob(\"*.gpkg.xz\"):\n",
    "    file.unlink()\n",
    "\n",
    "\n",
    "# WARNING: This process can easily take an hour or more to complete, depending on the machines single-core performance.\n",
    "for land in bundeslaender.iterrows():\n",
    "\n",
    "    regkey = land[0]\n",
    "    land_two_digits = f\"{regkey[:2]}\"\n",
    "\n",
    "    land_geo_name = land[1][\"geo_name\"]\n",
    "    land_geometry = land[1][\"geometry\"]\n",
    "\n",
    "    # One output file per Bundesland to get around file size limits\n",
    "    output_file = output_path.joinpath(f\"{land_two_digits}.gpkg.xz\")\n",
    "\n",
    "    # Clip the population grid to the Bundesland geometry\n",
    "    land_cells = pop_cells.clip(mask=land_geometry)\n",
    "\n",
    "    # Write the GeoDataFrame to a compressed GeoPackage file using a BytesIO buffer\n",
    "    with BytesIO() as buffer:\n",
    "\n",
    "        land_cells.to_file(buffer, layer=land_geo_name, driver=\"GPKG\")\n",
    "\n",
    "        buffer.seek(0)\n",
    "\n",
    "        with lzma.open(output_file, \"wb\", preset=9) as archive:\n",
    "            archive.write(buffer.read())\n",
    "\n",
    "    print(f\"Extracted {len(land_cells)} cells for {land_geo_name}\")"
   ]
  },
  {
   "cell_type": "code",
   "execution_count": null,
   "metadata": {},
   "outputs": [],
   "source": []
  }
 ],
 "metadata": {
  "kernelspec": {
   "display_name": "Python 3",
   "language": "python",
   "name": "python3"
  },
  "language_info": {
   "codemirror_mode": {
    "name": "ipython",
    "version": 3
   },
   "file_extension": ".py",
   "mimetype": "text/x-python",
   "name": "python",
   "nbconvert_exporter": "python",
   "pygments_lexer": "ipython3",
   "version": "3.13.0"
  }
 },
 "nbformat": 4,
 "nbformat_minor": 2
}
