{
 "cells": [
  {
   "cell_type": "markdown",
   "metadata": {},
   "source": [
    "## Sources Compression\n",
    "\n",
    "This notebook describes the process used to store all sources in the pharmalink package. \\\n",
    "The goal is to embed the files within the pharmalink package to enable their seamless distribution alongside the project code."
   ]
  },
  {
   "cell_type": "code",
   "execution_count": 23,
   "metadata": {},
   "outputs": [],
   "source": [
    "import pathlib as path\n",
    "import lzma\n",
    "import shutil"
   ]
  },
  {
   "cell_type": "code",
   "execution_count": 24,
   "metadata": {},
   "outputs": [],
   "source": [
    "# Establish notebook path for handling relative paths in the notebook\n",
    "notebook_path = path.Path().resolve()\n",
    "\n",
    "if notebook_path.stem != \"sources\":\n",
    "    raise Exception(\n",
    "        \"Notebook file root must be set to parent directory of the notebook. Please resolve and re-run.\"\n",
    "    )"
   ]
  },
  {
   "cell_type": "code",
   "execution_count": 25,
   "metadata": {
    "tags": [
     "parameters"
    ]
   },
   "outputs": [],
   "source": [
    "sources = [\n",
    "    [\"transport_modes\", \"transport_modes.json\"],\n",
    "    [\"admin_areas\", \"admin_areas.gpkg.xz\"],\n",
    "    [\"population_grid\", \"population_grid.gpkg.xz\"],\n",
    "    [\"residential_areas\", \"residential_areas\"],\n",
    "]"
   ]
  },
  {
   "cell_type": "code",
   "execution_count": 27,
   "metadata": {},
   "outputs": [
    {
     "ename": "Exception",
     "evalue": "Source admin_areas does not exist, please run admin_areas/admin_areas.ipynb and repeat.",
     "output_type": "error",
     "traceback": [
      "\u001b[0;31m---------------------------------------------------------------------------\u001b[0m",
      "\u001b[0;31mException\u001b[0m                                 Traceback (most recent call last)",
      "Cell \u001b[0;32mIn[27], line 16\u001b[0m\n\u001b[1;32m     13\u001b[0m \u001b[38;5;28;01mif\u001b[39;00m \u001b[38;5;129;01mnot\u001b[39;00m copy_from\u001b[38;5;241m.\u001b[39mexists():\n\u001b[1;32m     14\u001b[0m     source_name \u001b[38;5;241m=\u001b[39m source[\u001b[38;5;241m0\u001b[39m]\n\u001b[0;32m---> 16\u001b[0m     \u001b[38;5;28;01mraise\u001b[39;00m \u001b[38;5;167;01mException\u001b[39;00m(\n\u001b[1;32m     17\u001b[0m         \u001b[38;5;124mf\u001b[39m\u001b[38;5;124m\"\u001b[39m\u001b[38;5;124mSource \u001b[39m\u001b[38;5;132;01m{\u001b[39;00msource_name\u001b[38;5;132;01m}\u001b[39;00m\u001b[38;5;124m does not exist, please run \u001b[39m\u001b[38;5;132;01m{\u001b[39;00msource_name\u001b[38;5;132;01m}\u001b[39;00m\u001b[38;5;124m/\u001b[39m\u001b[38;5;132;01m{\u001b[39;00msource_name\u001b[38;5;132;01m}\u001b[39;00m\u001b[38;5;124m.ipynb and repeat.\u001b[39m\u001b[38;5;124m\"\u001b[39m\n\u001b[1;32m     18\u001b[0m     )\n\u001b[1;32m     20\u001b[0m \u001b[38;5;28;01mif\u001b[39;00m copy_from\u001b[38;5;241m.\u001b[39mis_file():\n\u001b[1;32m     21\u001b[0m     shutil\u001b[38;5;241m.\u001b[39mcopy(copy_from, copy_to)\n",
      "\u001b[0;31mException\u001b[0m: Source admin_areas does not exist, please run admin_areas/admin_areas.ipynb and repeat."
     ]
    }
   ],
   "source": [
    "# Create a folder in the code directory for the source files\n",
    "copy_to = notebook_path.parent.joinpath(\"code\", \"sources\")\n",
    "\n",
    "if copy_to.exists():\n",
    "    shutil.rmtree(copy_to)\n",
    "\n",
    "copy_to.mkdir(parents=True)\n",
    "\n",
    "# Copy the source files to the code directory\n",
    "for source in sources:\n",
    "    copy_from = notebook_path.joinpath(*source)\n",
    "\n",
    "    if not copy_from.exists():\n",
    "        source_name = source[0]\n",
    "\n",
    "        raise Exception(\n",
    "            f\"Source {source_name} does not exist, please run {source_name}/{source_name}.ipynb and repeat.\"\n",
    "        )\n",
    "\n",
    "    if copy_from.is_file():\n",
    "        shutil.copy(copy_from, copy_to)\n",
    "    elif copy_from.is_dir():\n",
    "\n",
    "        copy_to = copy_to.joinpath(source[0])\n",
    "\n",
    "        shutil.copytree(copy_from, copy_to)"
   ]
  },
  {
   "cell_type": "code",
   "execution_count": 9,
   "metadata": {},
   "outputs": [
    {
     "name": "stdout",
     "output_type": "stream",
     "text": [
      "Added transport_modes.json to the archive.\n",
      "Added admin_areas.gpkg to the archive.\n",
      "Added population_grid.gpkg to the archive.\n",
      "Added residential_areas.gpkg to the archive.\n",
      "Compression finished. Archive size: 348 MB\n"
     ]
    }
   ],
   "source": [
    "# Compress the files into a single archive\n",
    "\n",
    "compressed_sources = notebook_path.joinpath(\"sources.xz\")\n",
    "\n",
    "if compressed_sources.exists():\n",
    "    compressed_sources.unlink()\n",
    "\n",
    "with lzma.open(compressed_sources, \"wb\", preset=9) as archive:\n",
    "\n",
    "    for file in sources:\n",
    "        origin_path = notebook_path.joinpath(file[0], file[1])\n",
    "\n",
    "        # Check if the file exists\n",
    "        if not origin_path.exists():\n",
    "            raise Exception(f\"File {origin_path.name} does not exist.\")\n",
    "\n",
    "        # Write the file to the archive\n",
    "        with origin_path.open(\"rb\") as origin_file:\n",
    "            archive.write(origin_file.read())\n",
    "\n",
    "        print(f\"Added {origin_path.name} to the archive.\")\n",
    "\n",
    "print(\n",
    "    f\"Compression finished. Archive size: {compressed_sources.stat().st_size // (1024 * 1024)} MB\"\n",
    ")"
   ]
  },
  {
   "cell_type": "code",
   "execution_count": 4,
   "metadata": {},
   "outputs": [
    {
     "name": "stdout",
     "output_type": "stream",
     "text": [
      "Added transport_modes.json to the archive.\n",
      "Added admin_areas.gpkg to the archive.\n",
      "Added population_grid.gpkg to the archive.\n",
      "Added residential_areas.gpkg to the archive.\n",
      "Compression finished. Archive size: 348 MB\n"
     ]
    }
   ],
   "source": [
    "# Compress the files into archives in a \"sources\" subfolder\n",
    "\n",
    "compressed_sources_folder = notebook_path.joinpath(\"sources\")\n",
    "\n",
    "if compressed_sources_folder.exists():\n",
    "    for file in compressed_sources_folder.iterdir():\n",
    "        file.unlink()\n",
    "else:\n",
    "    compressed_sources_folder.mkdir()\n",
    "\n",
    "for file in sources:\n",
    "\n",
    "    origin_path = notebook_path.joinpath(file[0], file[1])\n",
    "    compressed_path = compressed_sources_folder.joinpath(file[1] + \".xz\")\n",
    "\n",
    "    if not origin_path.exists():\n",
    "        raise Exception(f\"File {origin_path.name} does not exist.\")\n",
    "\n",
    "    with lzma.open(compressed_path, \"wb\", preset=9) as archive:\n",
    "        with origin_path.open(\"rb\") as origin_file:\n",
    "            archive.write(origin_file.read())\n",
    "\n",
    "    print(f\"Added {origin_path.name} to the archive.\")\n",
    "\n",
    "print(\n",
    "    f\"Compression finished. Archive size: {sum(f.stat().st_size for f in compressed_sources_folder.iterdir()) // (1024 * 1024)} MB\"\n",
    ")"
   ]
  }
 ],
 "metadata": {
  "kernelspec": {
   "display_name": "Python 3",
   "language": "python",
   "name": "python3"
  },
  "language_info": {
   "codemirror_mode": {
    "name": "ipython",
    "version": 3
   },
   "file_extension": ".py",
   "mimetype": "text/x-python",
   "name": "python",
   "nbconvert_exporter": "python",
   "pygments_lexer": "ipython3",
   "version": "3.12.4"
  }
 },
 "nbformat": 4,
 "nbformat_minor": 2
}
