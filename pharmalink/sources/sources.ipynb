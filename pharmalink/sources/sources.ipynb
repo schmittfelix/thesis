{
 "cells": [
  {
   "cell_type": "markdown",
   "metadata": {},
   "source": [
    "## Sources\n",
    "\n",
    "This notebook describes the process used to store all sources in the pharmalink package. \\\n",
    "The goal is to embed the files within the pharmalink package to enable their seamless distribution alongside the project code."
   ]
  },
  {
   "cell_type": "code",
   "execution_count": 1,
   "metadata": {},
   "outputs": [],
   "source": [
    "import pathlib as path\n",
    "import shutil"
   ]
  },
  {
   "cell_type": "code",
   "execution_count": 2,
   "metadata": {},
   "outputs": [],
   "source": [
    "# Establish notebook path for handling relative paths in the notebook\n",
    "notebook_path = path.Path().resolve()\n",
    "\n",
    "if notebook_path.stem != \"sources\":\n",
    "    raise Exception(\n",
    "        \"Notebook file root must be set to parent directory of the notebook. Please resolve and re-run.\"\n",
    "    )"
   ]
  },
  {
   "cell_type": "code",
   "execution_count": 3,
   "metadata": {
    "tags": [
     "parameters"
    ]
   },
   "outputs": [],
   "source": [
    "sources = [\n",
    "    [\"transport_modes\", \"transport_modes.json\"],\n",
    "    [\"admin_areas\", \"admin_areas.gpkg.xz\"],\n",
    "    [\"distribution_centers\", \"distribution_centers.gpkg.xz\"],\n",
    "    [\"pharmacies\", \"pharmacies.gpkg.xz\"],\n",
    "    [\"population_grids\", \"population_grids\"],\n",
    "    [\"residential_areas\", \"residential_areas\"],\n",
    "]"
   ]
  },
  {
   "cell_type": "code",
   "execution_count": 4,
   "metadata": {},
   "outputs": [
    {
     "name": "stdout",
     "output_type": "stream",
     "text": [
      "Copied transport_modes to sources\n",
      "Copied admin_areas to sources\n",
      "Copied distribution_centers to sources\n",
      "Copied pharmacies to sources\n",
      "Copied population_grids to sources\n",
      "Copied residential_areas to sources\n"
     ]
    }
   ],
   "source": [
    "# Ensure the destination directory for the source files exists and is empty\n",
    "destination = notebook_path.parent.joinpath(\"code\", \"sources\")\n",
    "\n",
    "if destination.exists():\n",
    "    shutil.rmtree(destination)\n",
    "\n",
    "destination.mkdir(parents=True, exist_ok=True)\n",
    "\n",
    "# Copy the source files to the destination directory\n",
    "for source in sources:\n",
    "    copy_from = notebook_path.joinpath(*source)\n",
    "\n",
    "    # Check if the source exists and advise to run the relevant notebook to generate it if not\n",
    "    if not copy_from.exists():\n",
    "        source_name = source[0]\n",
    "\n",
    "        raise Exception(\n",
    "            f\"Source {source_name} does not exist, please run {source_name}/{source_name}.ipynb and repeat.\"\n",
    "        )\n",
    "\n",
    "    # Differentiate between files and directories and copy accordingly\n",
    "    if copy_from.is_file():\n",
    "        shutil.copy(copy_from, destination)\n",
    "\n",
    "    elif copy_from.is_dir():\n",
    "\n",
    "        target_folder = destination.joinpath(source[0])\n",
    "\n",
    "        shutil.copytree(copy_from, target_folder)\n",
    "\n",
    "    print(f\"Copied {source[0]} to {destination.stem}\")"
   ]
  },
  {
   "cell_type": "code",
   "execution_count": null,
   "metadata": {},
   "outputs": [],
   "source": []
  }
 ],
 "metadata": {
  "kernelspec": {
   "display_name": "Python 3",
   "language": "python",
   "name": "python3"
  },
  "language_info": {
   "codemirror_mode": {
    "name": "ipython",
    "version": 3
   },
   "file_extension": ".py",
   "mimetype": "text/x-python",
   "name": "python",
   "nbconvert_exporter": "python",
   "pygments_lexer": "ipython3",
   "version": "3.12.4"
  }
 },
 "nbformat": 4,
 "nbformat_minor": 2
}
