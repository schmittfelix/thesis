{
 "cells": [
  {
   "cell_type": "markdown",
   "metadata": {},
   "source": [
    "## Population Grid - Preprocessing\n",
    "\n",
    "This notebook describes the preprocessing of census data rendered as a population grid for Germany for the pharmalink project. \\\n",
    "The goal is to create a custom GeoPackage with one layer per Bundesland (state) containing all of its grid cells with a population > 0. \\\n",
    "Said GeoPackage is included in the pharmalink package as an essential part of its internal data."
   ]
  },
  {
   "cell_type": "markdown",
   "metadata": {},
   "source": [
    "### Source: [Zensus 2022](https://www.zensus2022.de) \n",
    "The source is available as Open Data from the 2022 census conducted by the federal and state statistical offices. \n",
    "\n",
    "© Statistische Ämter des Bundes und der Länder, 2024, [Data license Germany – attribution – version 2.0](https://www.govdata.de/dl-de/by-2-0) (Daten verändert)\n",
    "\n",
    "The source was last accessed on 2024-09-10.\n",
    "\n",
    "### Description:\n",
    "Census data rendered as an INSPIRE-conforming 100mx100m grid with an integer value representing the number of people living within each cell. \\\n",
    "For further information, see the \"Datensatzbeschreibung_Bevoelkerungszahl_Gitterzellen.xlsx\" file.\n",
    "\n",
    "[Website](https://www.zensus2022.de/DE/Ergebnisse-des-Zensus/_inhalt.html#Gitterdaten2022) and [File](https://www.zensus2022.de/static/Zensus_Veroeffentlichung/Zensus2022_Bevoelkerungszahl.zip)"
   ]
  },
  {
   "cell_type": "code",
   "execution_count": 1,
   "metadata": {},
   "outputs": [],
   "source": [
    "import pathlib as path\n",
    "import pandas as pd\n",
    "import geopandas as gpd\n",
    "from shapely.geometry import Polygon\n",
    "import lzma"
   ]
  },
  {
   "cell_type": "code",
   "execution_count": 2,
   "metadata": {},
   "outputs": [],
   "source": [
    "# Establish notebook path for handling relative paths in the notebook\n",
    "notebook_path = path.Path().resolve()\n",
    "\n",
    "if notebook_path.stem != \"population_grid\":\n",
    "    raise Exception(\n",
    "        \"Notebook file root must be set to parent directory of the notebook. Please resolve and re-run.\"\n",
    "    )"
   ]
  },
  {
   "cell_type": "code",
   "execution_count": 3,
   "metadata": {},
   "outputs": [],
   "source": [
    "# For source information, see above\n",
    "pop_cells_file = notebook_path.joinpath(\n",
    "    \"Zensus2022_Bevoelkerungszahl\", \"Zensus2022_Bevoelkerungszahl_100m-Gitter.csv\"\n",
    ")\n",
    "\n",
    "# Create a DataFrame from the population grid file\n",
    "pop_cells = pd.read_csv(\n",
    "    pop_cells_file,\n",
    "    sep=\";\",\n",
    "    header=0,\n",
    "    names=[\"id\", \"x_mp\", \"y_mp\", \"population\"],\n",
    "    dtype={\"id\": str, \"x_mp\": int, \"y_mp\": int, \"population\": int},\n",
    "    index_col=\"id\",\n",
    ")\n",
    "\n",
    "# Add the polygon described by the centroid x and y coordinates to the DataFrame\n",
    "pop_cells[\"geometry\"] = pop_cells.apply(\n",
    "    lambda row: Polygon(\n",
    "        [\n",
    "            (row[\"x_mp\"] - 50, row[\"y_mp\"] - 50),\n",
    "            (row[\"x_mp\"] + 50, row[\"y_mp\"] - 50),\n",
    "            (row[\"x_mp\"] + 50, row[\"y_mp\"] + 50),\n",
    "            (row[\"x_mp\"] - 50, row[\"y_mp\"] + 50),\n",
    "        ]\n",
    "    ),\n",
    "    axis=1,\n",
    ")\n",
    "\n",
    "# Clean up the DataFrame\n",
    "pop_cells = pop_cells.reset_index(drop=True)\n",
    "pop_cells = pop_cells[[\"geometry\", \"population\"]]\n",
    "\n",
    "# Create a GeoDataFrame from the DataFrame\n",
    "pop_cells = gpd.GeoDataFrame(pop_cells, crs=\"EPSG:3035\")"
   ]
  },
  {
   "cell_type": "code",
   "execution_count": 4,
   "metadata": {},
   "outputs": [],
   "source": [
    "# Import the Bundesländer areas from sources/admin_areas\n",
    "admin_areas_path = notebook_path.parent.joinpath(\"admin_areas\", \"admin_areas.gpkg\")\n",
    "\n",
    "admin_areas = gpd.read_file(admin_areas_path, engine=\"pyogrio\", use_arrow=True)\n",
    "\n",
    "bundeslaender = admin_areas[admin_areas[\"level\"] == \"land\"]\n",
    "\n",
    "bundeslaender = bundeslaender.set_index(\"regkey\")\n",
    "\n",
    "bundeslaender = bundeslaender.to_crs(\"EPSG:3035\")"
   ]
  },
  {
   "cell_type": "code",
   "execution_count": 7,
   "metadata": {},
   "outputs": [
    {
     "name": "stdout",
     "output_type": "stream",
     "text": [
      "Wrote 138894 cells for Schleswig-Holstein\n",
      "Wrote 29195 cells for Hamburg\n",
      "Wrote 416520 cells for Niedersachsen\n",
      "Wrote 12730 cells for Bremen\n",
      "Wrote 548405 cells for Nordrhein-Westfalen\n",
      "Wrote 191956 cells for Hessen\n",
      "Wrote 164209 cells for Rheinland-Pfalz\n",
      "Wrote 346891 cells for Baden-Württemberg\n",
      "Wrote 564846 cells for Bayern\n",
      "Wrote 39650 cells for Saarland\n",
      "Wrote 41053 cells for Berlin\n",
      "Wrote 139081 cells for Brandenburg\n",
      "Wrote 88185 cells for Mecklenburg-Vorpommern\n",
      "Wrote 175398 cells for Sachsen\n",
      "Wrote 101430 cells for Sachsen-Anhalt\n",
      "Wrote 92199 cells for Thüringen\n"
     ]
    }
   ],
   "source": [
    "# Filter the cells for each Bundesland and write them to a layer in the output GeoPackage\n",
    "\n",
    "output_file = notebook_path.joinpath(\"population_grid.gpkg.xz\")\n",
    "\n",
    "if output_file.exists():\n",
    "    output_file.unlink()\n",
    "\n",
    "with lzma.open(output_file, \"wb\", preset=9) as archive:\n",
    "\n",
    "    for bundesland in bundeslaender.iterrows():\n",
    "\n",
    "        land_name = bundesland[1][\"geo_name\"]\n",
    "        land_geometry = bundesland[1][\"geometry\"]\n",
    "\n",
    "        land_cells = pop_cells[pop_cells.intersects(land_geometry)]\n",
    "\n",
    "        land_cells.to_file(archive, layer=land_name, driver=\"GPKG\")\n",
    "\n",
    "        print(f\"Wrote {len(land_cells)} cells for {land_name}\")"
   ]
  },
  {
   "cell_type": "code",
   "execution_count": null,
   "metadata": {},
   "outputs": [],
   "source": []
  }
 ],
 "metadata": {
  "kernelspec": {
   "display_name": "Python 3",
   "language": "python",
   "name": "python3"
  },
  "language_info": {
   "codemirror_mode": {
    "name": "ipython",
    "version": 3
   },
   "file_extension": ".py",
   "mimetype": "text/x-python",
   "name": "python",
   "nbconvert_exporter": "python",
   "pygments_lexer": "ipython3",
   "version": "3.12.4"
  }
 },
 "nbformat": 4,
 "nbformat_minor": 2
}
