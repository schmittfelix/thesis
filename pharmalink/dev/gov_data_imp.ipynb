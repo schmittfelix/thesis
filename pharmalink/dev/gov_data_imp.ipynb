{
 "cells": [
  {
   "cell_type": "code",
   "execution_count": 1,
   "metadata": {},
   "outputs": [],
   "source": [
    "import sys\n",
    "import pathlib as path"
   ]
  },
  {
   "cell_type": "code",
   "execution_count": 2,
   "metadata": {},
   "outputs": [],
   "source": [
    "# Establish notebook path for handling relative paths in the notebook\n",
    "notebook_path = path.Path().resolve()\n",
    "\n",
    "if notebook_path.stem != \"dev\":\n",
    "    raise Exception(\n",
    "        \"Notebook file root must be set to parent directory of the notebook. Please resolve and re-run.\"\n",
    "    )\n",
    "\n",
    "# Add the thesis directory to the path for importing local modules\n",
    "sys.path.append(str(notebook_path.parent.parent))\n",
    "\n",
    "import pharmalink.code.area as area"
   ]
  },
  {
   "cell_type": "code",
   "execution_count": 3,
   "metadata": {},
   "outputs": [],
   "source": [
    "wue = area.Area(\"09663\")"
   ]
  }
 ],
 "metadata": {
  "kernelspec": {
   "display_name": "Python 3",
   "language": "python",
   "name": "python3"
  },
  "language_info": {
   "codemirror_mode": {
    "name": "ipython",
    "version": 3
   },
   "file_extension": ".py",
   "mimetype": "text/x-python",
   "name": "python",
   "nbconvert_exporter": "python",
   "pygments_lexer": "ipython3",
   "version": "3.12.4"
  }
 },
 "nbformat": 4,
 "nbformat_minor": 2
}
