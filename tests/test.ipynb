{
 "cells": [
  {
   "attachments": {},
   "cell_type": "markdown",
   "metadata": {},
   "source": [
    "### Proof-of-Concept for extracting street networks from OpenStreetMap and utilising them in VRP analysis"
   ]
  },
  {
   "cell_type": "code",
   "execution_count": 2,
   "metadata": {},
   "outputs": [],
   "source": [
    "import geopandas as gpd\n",
    "import pandas as pd\n",
    "import networkx as nx\n",
    "from matplotlib import pyplot as plt\n",
    "import osmnx as ox\n",
    "from vrpy import VehicleRoutingProblem"
   ]
  },
  {
   "attachments": {},
   "cell_type": "markdown",
   "metadata": {},
   "source": [
    "B -> Polygon boundaries of the Würzburg city area (OSM Relation ID \"R62464\")  \n",
    "G -> MultiDiGraph of the street network with boundaries B extracted from OSM "
   ]
  },
  {
   "cell_type": "code",
   "execution_count": 38,
   "metadata": {},
   "outputs": [],
   "source": [
    "B = ox.geocode_to_gdf(\"R62464\", by_osmid=True)\n",
    "G = ox.graph_from_polygon(B.unary_union, network_type=\"all\")\n",
    "\n",
    "#calculate additional data useful for more realistic VRP analysis\n",
    "G = ox.add_edge_speeds(G)\n",
    "G = ox.add_edge_travel_times(G)"
   ]
  },
  {
   "attachments": {},
   "cell_type": "markdown",
   "metadata": {},
   "source": [
    "Test whether our Graph actually contains the Würzburg street network"
   ]
  },
  {
   "cell_type": "code",
   "execution_count": null,
   "metadata": {},
   "outputs": [],
   "source": [
    "ox.plot_graph(\n",
    "    G,\n",
    "    figsize=(20, 20),\n",
    "    bgcolor=\"#000000\",\n",
    "    node_size=0,\n",
    "    edge_linewidth=0.5\n",
    ")"
   ]
  },
  {
   "attachments": {},
   "cell_type": "markdown",
   "metadata": {},
   "source": [
    "Since that seems to be the case, start analyzing "
   ]
  },
  {
   "cell_type": "code",
   "execution_count": null,
   "metadata": {},
   "outputs": [],
   "source": []
  }
 ],
 "metadata": {
  "kernelspec": {
   "display_name": "Python 3",
   "language": "python",
   "name": "python3"
  },
  "language_info": {
   "codemirror_mode": {
    "name": "ipython",
    "version": 3
   },
   "file_extension": ".py",
   "mimetype": "text/x-python",
   "name": "python",
   "nbconvert_exporter": "python",
   "pygments_lexer": "ipython3",
   "version": "3.11.1"
  },
  "orig_nbformat": 4,
  "vscode": {
   "interpreter": {
    "hash": "3ba35e4565184391f08882cbfe442d58c27e2a66277223f91605f4cfc5c7b607"
   }
  }
 },
 "nbformat": 4,
 "nbformat_minor": 2
}
