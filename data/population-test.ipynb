{
 "cells": [
  {
   "cell_type": "code",
   "execution_count": 1,
   "metadata": {},
   "outputs": [],
   "source": [
    "import pandas as pd\n",
    "import re\n",
    "\n",
    "# Read in the data\n",
    "df = pd.read_csv('data/2023-07-07_thesis_population-by-kreise.csv', sep=';', encoding = \"ISO-8859-1\", index_col='1_Auspraegung_Label')\n",
    "df = df.drop(columns=[\n",
    "        'Statistik_Code', 'Statistik_Label', 'Zeit_Code', 'Zeit_Label', 'Zeit',\n",
    "        '1_Merkmal_Code', '1_Auspraegung_Code', '1_Merkmal_Label'\n",
    "        ])"
   ]
  },
  {
   "cell_type": "code",
   "execution_count": 3,
   "metadata": {},
   "outputs": [],
   "source": [
    "df.rename({'BEVSTD__Bevoelkerungsstand__Anzahl': 'population'}, axis=1, inplace=True)\n",
    "df.rename({'1_Auspraegung_Label': 'area'}, axis=0, inplace=True)\n",
    "df.index = df.index.map(lambda label: re.sub(r',\\s*(?:Landkreis|kreisfreie Stadt)', '', label))\n",
    "df.to_csv('data/population_by_kreise.csv')\n",
    "population = df.to_dict()['population']"
   ]
  }
 ],
 "metadata": {
  "kernelspec": {
   "display_name": "Python 3",
   "language": "python",
   "name": "python3"
  },
  "language_info": {
   "codemirror_mode": {
    "name": "ipython",
    "version": 3
   },
   "file_extension": ".py",
   "mimetype": "text/x-python",
   "name": "python",
   "nbconvert_exporter": "python",
   "pygments_lexer": "ipython3",
   "version": "3.11.1"
  },
  "orig_nbformat": 4
 },
 "nbformat": 4,
 "nbformat_minor": 2
}
