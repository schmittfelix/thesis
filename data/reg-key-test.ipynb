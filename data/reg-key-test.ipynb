{
 "cells": [
  {
   "cell_type": "code",
   "execution_count": 1,
   "metadata": {},
   "outputs": [],
   "source": [
    "from numpy import int64\n",
    "import pandas as pd\n",
    "import re\n",
    "\n",
    "# Read in the data from a dedicated csv file\n",
    "df = pd.read_csv('./data/12411-01-01-4.csv',\n",
    "                sep=';', header=0, index_col=0,\n",
    "                usecols=[0,1,2], skipfooter=39,\n",
    "                encoding=\"iso-8859-1\", engine='python',\n",
    "                converters={'regional_key': str})\n",
    "\n",
    "# Transform the population column to numeric\n",
    "df['total'] = pd.to_numeric(df['total'], errors='coerce', downcast='integer')\n",
    "df = df.dropna(subset=['total'])\n",
    "df['total'] = df['total'].astype(int64)\n",
    "\n",
    "# Remove leading whitespace from area names\n",
    "df['area'] = df['area'].str.lstrip()\n",
    "\n",
    "df.to_csv('./data/population_by_kreise.csv', sep=';', encoding='utf-8')"
   ]
  },
  {
   "cell_type": "code",
   "execution_count": 2,
   "metadata": {},
   "outputs": [
    {
     "data": {
      "text/plain": [
       "126933"
      ]
     },
     "execution_count": 2,
     "metadata": {},
     "output_type": "execute_result"
    }
   ],
   "source": [
    "df.loc['09663', 'total']"
   ]
  },
  {
   "cell_type": "code",
   "execution_count": null,
   "metadata": {},
   "outputs": [],
   "source": []
  }
 ],
 "metadata": {
  "kernelspec": {
   "display_name": "Python 3",
   "language": "python",
   "name": "python3"
  },
  "language_info": {
   "codemirror_mode": {
    "name": "ipython",
    "version": 3
   },
   "file_extension": ".py",
   "mimetype": "text/x-python",
   "name": "python",
   "nbconvert_exporter": "python",
   "pygments_lexer": "ipython3",
   "version": "3.11.1"
  },
  "orig_nbformat": 4
 },
 "nbformat": 4,
 "nbformat_minor": 2
}
