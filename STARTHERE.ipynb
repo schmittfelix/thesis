{
 "cells": [
  {
   "cell_type": "markdown",
   "metadata": {},
   "source": [
    "## Quick overview: data model of the \"pharmada\" project"
   ]
  },
  {
   "cell_type": "markdown",
   "metadata": {},
   "source": [
    "Install required packages and setup the data model.\n",
    "\n",
    "Please note that you need to execute the following code snippet from the directory it is located in to import the model correctly.\n",
    "This is most easily done by cloning the entire project and then working from the project's root folder in your IDE."
   ]
  },
  {
   "cell_type": "code",
   "execution_count": null,
   "metadata": {},
   "outputs": [],
   "source": [
    "%pip install geopandas shapely osm2geojson folium\n",
    "\n",
    "import pharmada.data.data as data"
   ]
  },
  {
   "cell_type": "markdown",
   "metadata": {},
   "source": [
    "Let's start by defining the German city or county we want to work with. For this, we can either specify a name or a German Regionalschlüssel.\n",
    "(More information: pharmada/data/regkey.py)"
   ]
  },
  {
   "cell_type": "code",
   "execution_count": 2,
   "metadata": {},
   "outputs": [],
   "source": [
    "area = \"09663\" # Regional Key for the city of Würzburg"
   ]
  },
  {
   "cell_type": "markdown",
   "metadata": {},
   "source": [
    "Following this, we can generate our data model. This step should take about 30s, for all the \"magic\" happens here."
   ]
  },
  {
   "cell_type": "code",
   "execution_count": 3,
   "metadata": {},
   "outputs": [
    {
     "data": {
      "text/plain": [
       "Pharmada data model for Kreisfreie Stadt Würzburg (09663)\n",
       "Pharmacies in area: 41\n",
       "Customers in area:  5266"
      ]
     },
     "execution_count": 3,
     "metadata": {},
     "output_type": "execute_result"
    }
   ],
   "source": [
    "dm = data.Data(area)\n",
    "dm"
   ]
  },
  {
   "cell_type": "markdown",
   "metadata": {},
   "source": [
    "With the given Regional Key, the model has just completed five main steps:\n",
    "1. Validate the key and resolve our key to an OpenStreetMap (OSM) relation ID\n",
    "3. Retrieve both the area's general geometry (boundary polygon) and a subset of areas of interest from OSM\n",
    "4. Find all public pharmacies within the area\n",
    "5. Generate customers for the area's pharmacies as realistically as possible\n",
    "\n",
    "Let's look at the output:"
   ]
  },
  {
   "cell_type": "code",
   "execution_count": null,
   "metadata": {},
   "outputs": [],
   "source": [
    "dm.plot()"
   ]
  }
 ],
 "metadata": {
  "kernelspec": {
   "display_name": "Python 3",
   "language": "python",
   "name": "python3"
  },
  "language_info": {
   "codemirror_mode": {
    "name": "ipython",
    "version": 3
   },
   "file_extension": ".py",
   "mimetype": "text/x-python",
   "name": "python",
   "nbconvert_exporter": "python",
   "pygments_lexer": "ipython3",
   "version": "3.12.0"
  }
 },
 "nbformat": 4,
 "nbformat_minor": 2
}
