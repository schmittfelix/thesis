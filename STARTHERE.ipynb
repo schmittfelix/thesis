{
 "cells": [
  {
   "cell_type": "markdown",
   "metadata": {},
   "source": [
    "## Quick overview: data model of the \"pharmada\" project\n",
    "\n",
    "The goal of this notebook is to show the elements that form the pharmalink project and how they can be used to produce input for VRP solvers."
   ]
  },
  {
   "cell_type": "markdown",
   "metadata": {},
   "source": [
    "Install required packages and setup the data model. After package installation you should restart the notebook kernel (OPT-SHIFT-ENTER on macos)"
   ]
  },
  {
   "cell_type": "code",
   "execution_count": 1,
   "metadata": {},
   "outputs": [
    {
     "name": "stdout",
     "output_type": "stream",
     "text": [
      "Requirement already satisfied: numpy in /Users/felix/.pyenv/versions/3.13.0/lib/python3.13/site-packages (2.1.3)\n",
      "Requirement already satisfied: pandas in /Users/felix/.pyenv/versions/3.13.0/lib/python3.13/site-packages (2.2.3)\n",
      "Requirement already satisfied: geopandas in /Users/felix/.pyenv/versions/3.13.0/lib/python3.13/site-packages (1.0.1)\n",
      "Requirement already satisfied: shapely in /Users/felix/.pyenv/versions/3.13.0/lib/python3.13/site-packages (2.0.6)\n",
      "Requirement already satisfied: pyogrio in /Users/felix/.pyenv/versions/3.13.0/lib/python3.13/site-packages (0.10.0)\n",
      "Requirement already satisfied: requests in /Users/felix/.pyenv/versions/3.13.0/lib/python3.13/site-packages (2.32.3)\n",
      "Requirement already satisfied: tqdm in /Users/felix/.pyenv/versions/3.13.0/lib/python3.13/site-packages (4.67.1)\n",
      "Requirement already satisfied: aiohttp in /Users/felix/.pyenv/versions/3.13.0/lib/python3.13/site-packages (3.11.7)\n",
      "Requirement already satisfied: asyncio in /Users/felix/.pyenv/versions/3.13.0/lib/python3.13/site-packages (3.4.3)\n",
      "Requirement already satisfied: pdfplumber in /Users/felix/.pyenv/versions/3.13.0/lib/python3.13/site-packages (0.11.4)\n",
      "Requirement already satisfied: osmium in /Users/felix/.pyenv/versions/3.13.0/lib/python3.13/site-packages (4.0.2)\n",
      "Requirement already satisfied: folium in /Users/felix/.pyenv/versions/3.13.0/lib/python3.13/site-packages (0.18.0)\n",
      "Requirement already satisfied: matplotlib in /Users/felix/.pyenv/versions/3.13.0/lib/python3.13/site-packages (3.9.3)\n",
      "Requirement already satisfied: mapclassify in /Users/felix/.pyenv/versions/3.13.0/lib/python3.13/site-packages (2.8.1)\n",
      "Requirement already satisfied: openpyxl in /Users/felix/.pyenv/versions/3.13.0/lib/python3.13/site-packages (3.1.5)\n",
      "Requirement already satisfied: ipython in /Users/felix/.pyenv/versions/3.13.0/lib/python3.13/site-packages (8.29.0)\n",
      "Requirement already satisfied: ipykernel in /Users/felix/.pyenv/versions/3.13.0/lib/python3.13/site-packages (6.29.5)\n",
      "Requirement already satisfied: debugpy in /Users/felix/.pyenv/versions/3.13.0/lib/python3.13/site-packages (1.8.9)\n",
      "Requirement already satisfied: jupyter in /Users/felix/.pyenv/versions/3.13.0/lib/python3.13/site-packages (1.1.1)\n",
      "Requirement already satisfied: ipywidgets in /Users/felix/.pyenv/versions/3.13.0/lib/python3.13/site-packages (8.1.5)\n",
      "Requirement already satisfied: pulp in /Users/felix/.pyenv/versions/3.13.0/lib/python3.13/site-packages (2.9.0)\n",
      "Requirement already satisfied: python-dateutil>=2.8.2 in /Users/felix/.pyenv/versions/3.13.0/lib/python3.13/site-packages (from pandas) (2.9.0.post0)\n",
      "Requirement already satisfied: pytz>=2020.1 in /Users/felix/.pyenv/versions/3.13.0/lib/python3.13/site-packages (from pandas) (2024.2)\n",
      "Requirement already satisfied: tzdata>=2022.7 in /Users/felix/.pyenv/versions/3.13.0/lib/python3.13/site-packages (from pandas) (2024.2)\n",
      "Requirement already satisfied: packaging in /Users/felix/.pyenv/versions/3.13.0/lib/python3.13/site-packages (from geopandas) (24.2)\n",
      "Requirement already satisfied: pyproj>=3.3.0 in /Users/felix/.pyenv/versions/3.13.0/lib/python3.13/site-packages (from geopandas) (3.7.0)\n",
      "Requirement already satisfied: certifi in /Users/felix/.pyenv/versions/3.13.0/lib/python3.13/site-packages (from pyogrio) (2024.8.30)\n",
      "Requirement already satisfied: charset-normalizer<4,>=2 in /Users/felix/.pyenv/versions/3.13.0/lib/python3.13/site-packages (from requests) (3.4.0)\n",
      "Requirement already satisfied: idna<4,>=2.5 in /Users/felix/.pyenv/versions/3.13.0/lib/python3.13/site-packages (from requests) (3.10)\n",
      "Requirement already satisfied: urllib3<3,>=1.21.1 in /Users/felix/.pyenv/versions/3.13.0/lib/python3.13/site-packages (from requests) (2.2.3)\n",
      "Requirement already satisfied: aiohappyeyeballs>=2.3.0 in /Users/felix/.pyenv/versions/3.13.0/lib/python3.13/site-packages (from aiohttp) (2.4.3)\n",
      "Requirement already satisfied: aiosignal>=1.1.2 in /Users/felix/.pyenv/versions/3.13.0/lib/python3.13/site-packages (from aiohttp) (1.3.1)\n",
      "Requirement already satisfied: attrs>=17.3.0 in /Users/felix/.pyenv/versions/3.13.0/lib/python3.13/site-packages (from aiohttp) (24.2.0)\n",
      "Requirement already satisfied: frozenlist>=1.1.1 in /Users/felix/.pyenv/versions/3.13.0/lib/python3.13/site-packages (from aiohttp) (1.5.0)\n",
      "Requirement already satisfied: multidict<7.0,>=4.5 in /Users/felix/.pyenv/versions/3.13.0/lib/python3.13/site-packages (from aiohttp) (6.1.0)\n",
      "Requirement already satisfied: propcache>=0.2.0 in /Users/felix/.pyenv/versions/3.13.0/lib/python3.13/site-packages (from aiohttp) (0.2.0)\n",
      "Requirement already satisfied: yarl<2.0,>=1.17.0 in /Users/felix/.pyenv/versions/3.13.0/lib/python3.13/site-packages (from aiohttp) (1.18.0)\n",
      "Requirement already satisfied: pdfminer.six==20231228 in /Users/felix/.pyenv/versions/3.13.0/lib/python3.13/site-packages (from pdfplumber) (20231228)\n",
      "Requirement already satisfied: Pillow>=9.1 in /Users/felix/.pyenv/versions/3.13.0/lib/python3.13/site-packages (from pdfplumber) (11.0.0)\n",
      "Requirement already satisfied: pypdfium2>=4.18.0 in /Users/felix/.pyenv/versions/3.13.0/lib/python3.13/site-packages (from pdfplumber) (4.30.0)\n",
      "Requirement already satisfied: cryptography>=36.0.0 in /Users/felix/.pyenv/versions/3.13.0/lib/python3.13/site-packages (from pdfminer.six==20231228->pdfplumber) (43.0.3)\n",
      "Requirement already satisfied: branca>=0.6.0 in /Users/felix/.pyenv/versions/3.13.0/lib/python3.13/site-packages (from folium) (0.8.0)\n",
      "Requirement already satisfied: jinja2>=2.9 in /Users/felix/.pyenv/versions/3.13.0/lib/python3.13/site-packages (from folium) (3.1.4)\n",
      "Requirement already satisfied: xyzservices in /Users/felix/.pyenv/versions/3.13.0/lib/python3.13/site-packages (from folium) (2024.9.0)\n",
      "Requirement already satisfied: contourpy>=1.0.1 in /Users/felix/.pyenv/versions/3.13.0/lib/python3.13/site-packages (from matplotlib) (1.3.1)\n",
      "Requirement already satisfied: cycler>=0.10 in /Users/felix/.pyenv/versions/3.13.0/lib/python3.13/site-packages (from matplotlib) (0.12.1)\n",
      "Requirement already satisfied: fonttools>=4.22.0 in /Users/felix/.pyenv/versions/3.13.0/lib/python3.13/site-packages (from matplotlib) (4.55.3)\n",
      "Requirement already satisfied: kiwisolver>=1.3.1 in /Users/felix/.pyenv/versions/3.13.0/lib/python3.13/site-packages (from matplotlib) (1.4.7)\n",
      "Requirement already satisfied: pyparsing>=2.3.1 in /Users/felix/.pyenv/versions/3.13.0/lib/python3.13/site-packages (from matplotlib) (3.2.0)\n",
      "Requirement already satisfied: networkx>=2.7 in /Users/felix/.pyenv/versions/3.13.0/lib/python3.13/site-packages (from mapclassify) (3.4.2)\n",
      "Requirement already satisfied: scikit-learn>=1.0 in /Users/felix/.pyenv/versions/3.13.0/lib/python3.13/site-packages (from mapclassify) (1.6.0)\n",
      "Requirement already satisfied: scipy>=1.8 in /Users/felix/.pyenv/versions/3.13.0/lib/python3.13/site-packages (from mapclassify) (1.14.1)\n",
      "Requirement already satisfied: et-xmlfile in /Users/felix/.pyenv/versions/3.13.0/lib/python3.13/site-packages (from openpyxl) (2.0.0)\n",
      "Requirement already satisfied: decorator in /Users/felix/.pyenv/versions/3.13.0/lib/python3.13/site-packages (from ipython) (5.1.1)\n",
      "Requirement already satisfied: jedi>=0.16 in /Users/felix/.pyenv/versions/3.13.0/lib/python3.13/site-packages (from ipython) (0.19.2)\n",
      "Requirement already satisfied: matplotlib-inline in /Users/felix/.pyenv/versions/3.13.0/lib/python3.13/site-packages (from ipython) (0.1.7)\n",
      "Requirement already satisfied: prompt-toolkit<3.1.0,>=3.0.41 in /Users/felix/.pyenv/versions/3.13.0/lib/python3.13/site-packages (from ipython) (3.0.48)\n",
      "Requirement already satisfied: pygments>=2.4.0 in /Users/felix/.pyenv/versions/3.13.0/lib/python3.13/site-packages (from ipython) (2.18.0)\n",
      "Requirement already satisfied: stack-data in /Users/felix/.pyenv/versions/3.13.0/lib/python3.13/site-packages (from ipython) (0.6.3)\n",
      "Requirement already satisfied: traitlets>=5.13.0 in /Users/felix/.pyenv/versions/3.13.0/lib/python3.13/site-packages (from ipython) (5.14.3)\n",
      "Requirement already satisfied: pexpect>4.3 in /Users/felix/.pyenv/versions/3.13.0/lib/python3.13/site-packages (from ipython) (4.9.0)\n",
      "Requirement already satisfied: appnope in /Users/felix/.pyenv/versions/3.13.0/lib/python3.13/site-packages (from ipykernel) (0.1.4)\n",
      "Requirement already satisfied: comm>=0.1.1 in /Users/felix/.pyenv/versions/3.13.0/lib/python3.13/site-packages (from ipykernel) (0.2.2)\n",
      "Requirement already satisfied: jupyter-client>=6.1.12 in /Users/felix/.pyenv/versions/3.13.0/lib/python3.13/site-packages (from ipykernel) (8.6.3)\n",
      "Requirement already satisfied: jupyter-core!=5.0.*,>=4.12 in /Users/felix/.pyenv/versions/3.13.0/lib/python3.13/site-packages (from ipykernel) (5.7.2)\n",
      "Requirement already satisfied: nest-asyncio in /Users/felix/.pyenv/versions/3.13.0/lib/python3.13/site-packages (from ipykernel) (1.6.0)\n",
      "Requirement already satisfied: psutil in /Users/felix/.pyenv/versions/3.13.0/lib/python3.13/site-packages (from ipykernel) (6.1.0)\n",
      "Requirement already satisfied: pyzmq>=24 in /Users/felix/.pyenv/versions/3.13.0/lib/python3.13/site-packages (from ipykernel) (26.2.0)\n",
      "Requirement already satisfied: tornado>=6.1 in /Users/felix/.pyenv/versions/3.13.0/lib/python3.13/site-packages (from ipykernel) (6.4.2)\n",
      "Requirement already satisfied: notebook in /Users/felix/.pyenv/versions/3.13.0/lib/python3.13/site-packages (from jupyter) (7.2.2)\n",
      "Requirement already satisfied: jupyter-console in /Users/felix/.pyenv/versions/3.13.0/lib/python3.13/site-packages (from jupyter) (6.6.3)\n",
      "Requirement already satisfied: nbconvert in /Users/felix/.pyenv/versions/3.13.0/lib/python3.13/site-packages (from jupyter) (7.16.4)\n",
      "Requirement already satisfied: jupyterlab in /Users/felix/.pyenv/versions/3.13.0/lib/python3.13/site-packages (from jupyter) (4.2.6)\n",
      "Requirement already satisfied: widgetsnbextension~=4.0.12 in /Users/felix/.pyenv/versions/3.13.0/lib/python3.13/site-packages (from ipywidgets) (4.0.13)\n",
      "Requirement already satisfied: jupyterlab-widgets~=3.0.12 in /Users/felix/.pyenv/versions/3.13.0/lib/python3.13/site-packages (from ipywidgets) (3.0.13)\n",
      "Requirement already satisfied: parso<0.9.0,>=0.8.4 in /Users/felix/.pyenv/versions/3.13.0/lib/python3.13/site-packages (from jedi>=0.16->ipython) (0.8.4)\n",
      "Requirement already satisfied: MarkupSafe>=2.0 in /Users/felix/.pyenv/versions/3.13.0/lib/python3.13/site-packages (from jinja2>=2.9->folium) (3.0.2)\n",
      "Requirement already satisfied: platformdirs>=2.5 in /Users/felix/.pyenv/versions/3.13.0/lib/python3.13/site-packages (from jupyter-core!=5.0.*,>=4.12->ipykernel) (4.3.6)\n",
      "Requirement already satisfied: ptyprocess>=0.5 in /Users/felix/.pyenv/versions/3.13.0/lib/python3.13/site-packages (from pexpect>4.3->ipython) (0.7.0)\n",
      "Requirement already satisfied: wcwidth in /Users/felix/.pyenv/versions/3.13.0/lib/python3.13/site-packages (from prompt-toolkit<3.1.0,>=3.0.41->ipython) (0.2.13)\n",
      "Requirement already satisfied: six>=1.5 in /Users/felix/.pyenv/versions/3.13.0/lib/python3.13/site-packages (from python-dateutil>=2.8.2->pandas) (1.16.0)\n",
      "Requirement already satisfied: joblib>=1.2.0 in /Users/felix/.pyenv/versions/3.13.0/lib/python3.13/site-packages (from scikit-learn>=1.0->mapclassify) (1.4.2)\n",
      "Requirement already satisfied: threadpoolctl>=3.1.0 in /Users/felix/.pyenv/versions/3.13.0/lib/python3.13/site-packages (from scikit-learn>=1.0->mapclassify) (3.5.0)\n",
      "Requirement already satisfied: async-lru>=1.0.0 in /Users/felix/.pyenv/versions/3.13.0/lib/python3.13/site-packages (from jupyterlab->jupyter) (2.0.4)\n",
      "Requirement already satisfied: httpx>=0.25.0 in /Users/felix/.pyenv/versions/3.13.0/lib/python3.13/site-packages (from jupyterlab->jupyter) (0.27.2)\n",
      "Requirement already satisfied: jupyter-lsp>=2.0.0 in /Users/felix/.pyenv/versions/3.13.0/lib/python3.13/site-packages (from jupyterlab->jupyter) (2.2.5)\n",
      "Requirement already satisfied: jupyter-server<3,>=2.4.0 in /Users/felix/.pyenv/versions/3.13.0/lib/python3.13/site-packages (from jupyterlab->jupyter) (2.14.2)\n",
      "Requirement already satisfied: jupyterlab-server<3,>=2.27.1 in /Users/felix/.pyenv/versions/3.13.0/lib/python3.13/site-packages (from jupyterlab->jupyter) (2.27.3)\n",
      "Requirement already satisfied: notebook-shim>=0.2 in /Users/felix/.pyenv/versions/3.13.0/lib/python3.13/site-packages (from jupyterlab->jupyter) (0.2.4)\n",
      "Requirement already satisfied: setuptools>=40.1.0 in /Users/felix/.pyenv/versions/3.13.0/lib/python3.13/site-packages (from jupyterlab->jupyter) (75.6.0)\n",
      "Requirement already satisfied: beautifulsoup4 in /Users/felix/.pyenv/versions/3.13.0/lib/python3.13/site-packages (from nbconvert->jupyter) (4.12.3)\n",
      "Requirement already satisfied: bleach!=5.0.0 in /Users/felix/.pyenv/versions/3.13.0/lib/python3.13/site-packages (from nbconvert->jupyter) (6.2.0)\n",
      "Requirement already satisfied: defusedxml in /Users/felix/.pyenv/versions/3.13.0/lib/python3.13/site-packages (from nbconvert->jupyter) (0.7.1)\n",
      "Requirement already satisfied: jupyterlab-pygments in /Users/felix/.pyenv/versions/3.13.0/lib/python3.13/site-packages (from nbconvert->jupyter) (0.3.0)\n",
      "Requirement already satisfied: mistune<4,>=2.0.3 in /Users/felix/.pyenv/versions/3.13.0/lib/python3.13/site-packages (from nbconvert->jupyter) (3.0.2)\n",
      "Requirement already satisfied: nbclient>=0.5.0 in /Users/felix/.pyenv/versions/3.13.0/lib/python3.13/site-packages (from nbconvert->jupyter) (0.10.0)\n",
      "Requirement already satisfied: nbformat>=5.7 in /Users/felix/.pyenv/versions/3.13.0/lib/python3.13/site-packages (from nbconvert->jupyter) (5.10.4)\n",
      "Requirement already satisfied: pandocfilters>=1.4.1 in /Users/felix/.pyenv/versions/3.13.0/lib/python3.13/site-packages (from nbconvert->jupyter) (1.5.1)\n",
      "Requirement already satisfied: tinycss2 in /Users/felix/.pyenv/versions/3.13.0/lib/python3.13/site-packages (from nbconvert->jupyter) (1.4.0)\n",
      "Requirement already satisfied: executing>=1.2.0 in /Users/felix/.pyenv/versions/3.13.0/lib/python3.13/site-packages (from stack-data->ipython) (2.1.0)\n",
      "Requirement already satisfied: asttokens>=2.1.0 in /Users/felix/.pyenv/versions/3.13.0/lib/python3.13/site-packages (from stack-data->ipython) (2.4.1)\n",
      "Requirement already satisfied: pure-eval in /Users/felix/.pyenv/versions/3.13.0/lib/python3.13/site-packages (from stack-data->ipython) (0.2.3)\n",
      "Requirement already satisfied: webencodings in /Users/felix/.pyenv/versions/3.13.0/lib/python3.13/site-packages (from bleach!=5.0.0->nbconvert->jupyter) (0.5.1)\n",
      "Requirement already satisfied: cffi>=1.12 in /Users/felix/.pyenv/versions/3.13.0/lib/python3.13/site-packages (from cryptography>=36.0.0->pdfminer.six==20231228->pdfplumber) (1.17.1)\n",
      "Requirement already satisfied: anyio in /Users/felix/.pyenv/versions/3.13.0/lib/python3.13/site-packages (from httpx>=0.25.0->jupyterlab->jupyter) (4.6.2.post1)\n",
      "Requirement already satisfied: httpcore==1.* in /Users/felix/.pyenv/versions/3.13.0/lib/python3.13/site-packages (from httpx>=0.25.0->jupyterlab->jupyter) (1.0.7)\n",
      "Requirement already satisfied: sniffio in /Users/felix/.pyenv/versions/3.13.0/lib/python3.13/site-packages (from httpx>=0.25.0->jupyterlab->jupyter) (1.3.1)\n",
      "Requirement already satisfied: h11<0.15,>=0.13 in /Users/felix/.pyenv/versions/3.13.0/lib/python3.13/site-packages (from httpcore==1.*->httpx>=0.25.0->jupyterlab->jupyter) (0.14.0)\n",
      "Requirement already satisfied: argon2-cffi>=21.1 in /Users/felix/.pyenv/versions/3.13.0/lib/python3.13/site-packages (from jupyter-server<3,>=2.4.0->jupyterlab->jupyter) (23.1.0)\n",
      "Requirement already satisfied: jupyter-events>=0.9.0 in /Users/felix/.pyenv/versions/3.13.0/lib/python3.13/site-packages (from jupyter-server<3,>=2.4.0->jupyterlab->jupyter) (0.10.0)\n",
      "Requirement already satisfied: jupyter-server-terminals>=0.4.4 in /Users/felix/.pyenv/versions/3.13.0/lib/python3.13/site-packages (from jupyter-server<3,>=2.4.0->jupyterlab->jupyter) (0.5.3)\n",
      "Requirement already satisfied: overrides>=5.0 in /Users/felix/.pyenv/versions/3.13.0/lib/python3.13/site-packages (from jupyter-server<3,>=2.4.0->jupyterlab->jupyter) (7.7.0)\n",
      "Requirement already satisfied: prometheus-client>=0.9 in /Users/felix/.pyenv/versions/3.13.0/lib/python3.13/site-packages (from jupyter-server<3,>=2.4.0->jupyterlab->jupyter) (0.21.0)\n",
      "Requirement already satisfied: send2trash>=1.8.2 in /Users/felix/.pyenv/versions/3.13.0/lib/python3.13/site-packages (from jupyter-server<3,>=2.4.0->jupyterlab->jupyter) (1.8.3)\n",
      "Requirement already satisfied: terminado>=0.8.3 in /Users/felix/.pyenv/versions/3.13.0/lib/python3.13/site-packages (from jupyter-server<3,>=2.4.0->jupyterlab->jupyter) (0.18.1)\n",
      "Requirement already satisfied: websocket-client>=1.7 in /Users/felix/.pyenv/versions/3.13.0/lib/python3.13/site-packages (from jupyter-server<3,>=2.4.0->jupyterlab->jupyter) (1.8.0)\n",
      "Requirement already satisfied: babel>=2.10 in /Users/felix/.pyenv/versions/3.13.0/lib/python3.13/site-packages (from jupyterlab-server<3,>=2.27.1->jupyterlab->jupyter) (2.16.0)\n",
      "Requirement already satisfied: json5>=0.9.0 in /Users/felix/.pyenv/versions/3.13.0/lib/python3.13/site-packages (from jupyterlab-server<3,>=2.27.1->jupyterlab->jupyter) (0.10.0)\n",
      "Requirement already satisfied: jsonschema>=4.18.0 in /Users/felix/.pyenv/versions/3.13.0/lib/python3.13/site-packages (from jupyterlab-server<3,>=2.27.1->jupyterlab->jupyter) (4.23.0)\n",
      "Requirement already satisfied: fastjsonschema>=2.15 in /Users/felix/.pyenv/versions/3.13.0/lib/python3.13/site-packages (from nbformat>=5.7->nbconvert->jupyter) (2.20.0)\n",
      "Requirement already satisfied: soupsieve>1.2 in /Users/felix/.pyenv/versions/3.13.0/lib/python3.13/site-packages (from beautifulsoup4->nbconvert->jupyter) (2.6)\n",
      "Requirement already satisfied: argon2-cffi-bindings in /Users/felix/.pyenv/versions/3.13.0/lib/python3.13/site-packages (from argon2-cffi>=21.1->jupyter-server<3,>=2.4.0->jupyterlab->jupyter) (21.2.0)\n",
      "Requirement already satisfied: pycparser in /Users/felix/.pyenv/versions/3.13.0/lib/python3.13/site-packages (from cffi>=1.12->cryptography>=36.0.0->pdfminer.six==20231228->pdfplumber) (2.22)\n",
      "Requirement already satisfied: jsonschema-specifications>=2023.03.6 in /Users/felix/.pyenv/versions/3.13.0/lib/python3.13/site-packages (from jsonschema>=4.18.0->jupyterlab-server<3,>=2.27.1->jupyterlab->jupyter) (2024.10.1)\n",
      "Requirement already satisfied: referencing>=0.28.4 in /Users/felix/.pyenv/versions/3.13.0/lib/python3.13/site-packages (from jsonschema>=4.18.0->jupyterlab-server<3,>=2.27.1->jupyterlab->jupyter) (0.35.1)\n",
      "Requirement already satisfied: rpds-py>=0.7.1 in /Users/felix/.pyenv/versions/3.13.0/lib/python3.13/site-packages (from jsonschema>=4.18.0->jupyterlab-server<3,>=2.27.1->jupyterlab->jupyter) (0.21.0)\n",
      "Requirement already satisfied: python-json-logger>=2.0.4 in /Users/felix/.pyenv/versions/3.13.0/lib/python3.13/site-packages (from jupyter-events>=0.9.0->jupyter-server<3,>=2.4.0->jupyterlab->jupyter) (2.0.7)\n",
      "Requirement already satisfied: pyyaml>=5.3 in /Users/felix/.pyenv/versions/3.13.0/lib/python3.13/site-packages (from jupyter-events>=0.9.0->jupyter-server<3,>=2.4.0->jupyterlab->jupyter) (6.0.2)\n",
      "Requirement already satisfied: rfc3339-validator in /Users/felix/.pyenv/versions/3.13.0/lib/python3.13/site-packages (from jupyter-events>=0.9.0->jupyter-server<3,>=2.4.0->jupyterlab->jupyter) (0.1.4)\n",
      "Requirement already satisfied: rfc3986-validator>=0.1.1 in /Users/felix/.pyenv/versions/3.13.0/lib/python3.13/site-packages (from jupyter-events>=0.9.0->jupyter-server<3,>=2.4.0->jupyterlab->jupyter) (0.1.1)\n",
      "Requirement already satisfied: fqdn in /Users/felix/.pyenv/versions/3.13.0/lib/python3.13/site-packages (from jsonschema[format-nongpl]>=4.18.0->jupyter-events>=0.9.0->jupyter-server<3,>=2.4.0->jupyterlab->jupyter) (1.5.1)\n",
      "Requirement already satisfied: isoduration in /Users/felix/.pyenv/versions/3.13.0/lib/python3.13/site-packages (from jsonschema[format-nongpl]>=4.18.0->jupyter-events>=0.9.0->jupyter-server<3,>=2.4.0->jupyterlab->jupyter) (20.11.0)\n",
      "Requirement already satisfied: jsonpointer>1.13 in /Users/felix/.pyenv/versions/3.13.0/lib/python3.13/site-packages (from jsonschema[format-nongpl]>=4.18.0->jupyter-events>=0.9.0->jupyter-server<3,>=2.4.0->jupyterlab->jupyter) (3.0.0)\n",
      "Requirement already satisfied: uri-template in /Users/felix/.pyenv/versions/3.13.0/lib/python3.13/site-packages (from jsonschema[format-nongpl]>=4.18.0->jupyter-events>=0.9.0->jupyter-server<3,>=2.4.0->jupyterlab->jupyter) (1.3.0)\n",
      "Requirement already satisfied: webcolors>=24.6.0 in /Users/felix/.pyenv/versions/3.13.0/lib/python3.13/site-packages (from jsonschema[format-nongpl]>=4.18.0->jupyter-events>=0.9.0->jupyter-server<3,>=2.4.0->jupyterlab->jupyter) (24.11.1)\n",
      "Requirement already satisfied: arrow>=0.15.0 in /Users/felix/.pyenv/versions/3.13.0/lib/python3.13/site-packages (from isoduration->jsonschema[format-nongpl]>=4.18.0->jupyter-events>=0.9.0->jupyter-server<3,>=2.4.0->jupyterlab->jupyter) (1.3.0)\n",
      "Requirement already satisfied: types-python-dateutil>=2.8.10 in /Users/felix/.pyenv/versions/3.13.0/lib/python3.13/site-packages (from arrow>=0.15.0->isoduration->jsonschema[format-nongpl]>=4.18.0->jupyter-events>=0.9.0->jupyter-server<3,>=2.4.0->jupyterlab->jupyter) (2.9.0.20241003)\n"
     ]
    }
   ],
   "source": [
    "import sys\n",
    "!{sys.executable} -m pip install numpy pandas geopandas shapely pyogrio requests tqdm aiohttp asyncio pdfplumber osmium folium matplotlib mapclassify openpyxl ipython ipykernel debugpy jupyter ipywidgets pulp"
   ]
  },
  {
   "cell_type": "code",
   "execution_count": 2,
   "metadata": {},
   "outputs": [],
   "source": [
    "# Establish a notebook path to handle relative paths in the notebook\n",
    "import pathlib as path\n",
    "\n",
    "notebook_path = path.Path().resolve()\n",
    "\n",
    "if notebook_path.stem != \"thesis\":\n",
    "    raise Exception(\n",
    "        \"Notebook file root must be set to parent directory of the notebook. Please resolve and re-run.\"\n",
    "    )"
   ]
  },
  {
   "cell_type": "code",
   "execution_count": 3,
   "metadata": {},
   "outputs": [],
   "source": [
    "# Add the thesis directory to the path for importing local modules\n",
    "sys.path.append(str(notebook_path))\n",
    "\n",
    "# Import the local modules\n",
    "import pharmalink.code.area as area\n",
    "import pharmalink.code.sources as sources\n",
    "import pharmalink.code.customers as cus\n",
    "import pharmalink.code.routing as routing"
   ]
  },
  {
   "cell_type": "markdown",
   "metadata": {},
   "source": [
    "As a first step, we need to define the area we're going to work with. Let's choose Munich for this example."
   ]
  },
  {
   "cell_type": "code",
   "execution_count": 11,
   "metadata": {},
   "outputs": [],
   "source": [
    "# this is the so-called \"Regionalschlüssel\" for the city of Munich. For more information see area.py\n",
    "example_area = area.Area(\"09162\")"
   ]
  },
  {
   "cell_type": "markdown",
   "metadata": {},
   "source": [
    "Nice! You can either explore the area via its attributes and functions (eg plot()) or continue below."
   ]
  },
  {
   "cell_type": "markdown",
   "metadata": {},
   "source": [
    "### Data!\n",
    "The pharmaceutical supply chain we're going to work with looks like that:\n",
    "\n",
    "Wholesaler's Distribution Center -> Pharmacy -> Customer\n"
   ]
  },
  {
   "cell_type": "markdown",
   "metadata": {},
   "source": []
  }
 ],
 "metadata": {
  "kernelspec": {
   "display_name": "Python 3",
   "language": "python",
   "name": "python3"
  },
  "language_info": {
   "codemirror_mode": {
    "name": "ipython",
    "version": 3
   },
   "file_extension": ".py",
   "mimetype": "text/x-python",
   "name": "python",
   "nbconvert_exporter": "python",
   "pygments_lexer": "ipython3",
   "version": "3.13.0"
  }
 },
 "nbformat": 4,
 "nbformat_minor": 2
}
